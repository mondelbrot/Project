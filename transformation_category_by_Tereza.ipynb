{
 "cells": [
  {
   "cell_type": "code",
   "execution_count": 1,
   "id": "9878d978-c3f8-4df5-821e-cd3206fee309",
   "metadata": {
    "tags": []
   },
   "outputs": [],
   "source": [
    "import pandas as pd\n",
    "import numpy as np\n",
    "import matplotlib.pyplot as plt\n",
    "import matplotlib.cm as cm\n",
    "from matplotlib.animation import FuncAnimation\n",
    "from IPython.display import HTML\n",
    "import seaborn as sns\n",
    "import os\n",
    "import time\n",
    "import pyodbc\n",
    "import warnings\n",
    "from datetime import datetime, timedelta\n",
    "import gc\n",
    "import glob\n",
    "import hashlib\n",
    "from sklearn.feature_extraction.text import TfidfVectorizer\n",
    "from unidecode import unidecode\n",
    "import re\n",
    "\n",
    "warnings.filterwarnings('ignore', message='pandas only supports SQLAlchemy connectable .*')\n",
    "pd.set_option('display.max_rows', 300)\n",
    "pd.set_option('display.max_columns', None)\n",
    "# suppress scientific notation by setting float_format\n",
    "pd.options.display.float_format = '{:.0f}'.format"
   ]
  },
  {
   "cell_type": "markdown",
   "id": "947ea02f-fa33-43ac-849a-55385ad01583",
   "metadata": {},
   "source": [
    "## Jobs"
   ]
  },
  {
   "cell_type": "code",
   "execution_count": 2,
   "id": "1cad36dd-20b6-4fe3-9e82-be849f70b7bf",
   "metadata": {
    "tags": []
   },
   "outputs": [],
   "source": [
    "# Read Excel file\n",
    "df = pd.read_excel('datasets/jirka/czechitas_dw_public_IT_jobs_scraping.xlsx', sheet_name='Result 1')"
   ]
  },
  {
   "cell_type": "code",
   "execution_count": 3,
   "id": "bf912784-8970-4344-b0a1-d66a38f52e25",
   "metadata": {
    "tags": []
   },
   "outputs": [],
   "source": [
    "df = df[df[\"source\"]==\"jobs_cz\"]\n",
    "# Convert the 'date_start' column to datetime format\n",
    "df['date_start'] = pd.to_datetime(df['date_start'])\n",
    "# Filter rows where 'date_start' is greater or equal to '2023-01-01'\n",
    "df = df[df['date_start'] >= '2022-01-01']"
   ]
  },
  {
   "cell_type": "code",
   "execution_count": 4,
   "id": "22fcbbd3-559c-4e16-b333-8246f29d7213",
   "metadata": {
    "tags": []
   },
   "outputs": [],
   "source": [
    "# Hash the 'event_id' column\n",
    "df['job_id'] = df['id'].apply(lambda x: hashlib.sha256(str(x).encode()).hexdigest())"
   ]
  },
  {
   "cell_type": "code",
   "execution_count": 5,
   "id": "4c768df6-689e-43e3-8f3e-44248135df74",
   "metadata": {
    "tags": []
   },
   "outputs": [
    {
     "data": {
      "text/html": [
       "<div>\n",
       "<style scoped>\n",
       "    .dataframe tbody tr th:only-of-type {\n",
       "        vertical-align: middle;\n",
       "    }\n",
       "\n",
       "    .dataframe tbody tr th {\n",
       "        vertical-align: top;\n",
       "    }\n",
       "\n",
       "    .dataframe thead th {\n",
       "        text-align: right;\n",
       "    }\n",
       "</style>\n",
       "<table border=\"1\" class=\"dataframe\">\n",
       "  <thead>\n",
       "    <tr style=\"text-align: right;\">\n",
       "      <th></th>\n",
       "      <th>source</th>\n",
       "      <th>id</th>\n",
       "      <th>name</th>\n",
       "      <th>company</th>\n",
       "      <th>city</th>\n",
       "      <th>county</th>\n",
       "      <th>CZK_salary_from</th>\n",
       "      <th>CZK_salary_to</th>\n",
       "      <th>url</th>\n",
       "      <th>date_start</th>\n",
       "      <th>date_end</th>\n",
       "      <th>junior</th>\n",
       "      <th>maternity</th>\n",
       "      <th>remote_partly</th>\n",
       "      <th>remote_fully</th>\n",
       "      <th>part_time</th>\n",
       "      <th>full_time</th>\n",
       "      <th>edu_basic</th>\n",
       "      <th>edu_high</th>\n",
       "      <th>edu_university</th>\n",
       "      <th>category</th>\n",
       "      <th>Kategorie_by_Czechitas</th>\n",
       "      <th>date_difference</th>\n",
       "      <th>date_difference_range</th>\n",
       "      <th>date_posted</th>\n",
       "      <th>date_posted_range</th>\n",
       "      <th>job_id</th>\n",
       "    </tr>\n",
       "  </thead>\n",
       "  <tbody>\n",
       "    <tr>\n",
       "      <th>0</th>\n",
       "      <td>jobs_cz</td>\n",
       "      <td>1590329021</td>\n",
       "      <td>Security Specialist</td>\n",
       "      <td>Manuvia</td>\n",
       "      <td>Praha</td>\n",
       "      <td>Hlavní město Praha</td>\n",
       "      <td>NaN</td>\n",
       "      <td>NaN</td>\n",
       "      <td>https://www.jobs.cz/rpd/1590329021/</td>\n",
       "      <td>2022-05-10</td>\n",
       "      <td>2022-09-06</td>\n",
       "      <td>False</td>\n",
       "      <td>False</td>\n",
       "      <td>False</td>\n",
       "      <td>False</td>\n",
       "      <td>False</td>\n",
       "      <td>True</td>\n",
       "      <td>False</td>\n",
       "      <td>False</td>\n",
       "      <td>False</td>\n",
       "      <td>IT Security Specialist</td>\n",
       "      <td>IT security</td>\n",
       "      <td>119</td>\n",
       "      <td>61+</td>\n",
       "      <td>517</td>\n",
       "      <td>31+</td>\n",
       "      <td>2ff29b0b054abcd27e49693c1df601d22815cfa310374a...</td>\n",
       "    </tr>\n",
       "    <tr>\n",
       "      <th>1</th>\n",
       "      <td>jobs_cz</td>\n",
       "      <td>1591719727</td>\n",
       "      <td>C# .NET Developer pro IB Commodities Reporting</td>\n",
       "      <td>COMMERZBANK Aktiengesellschaft, pobočka Praha</td>\n",
       "      <td>Praha</td>\n",
       "      <td>Hlavní město Praha</td>\n",
       "      <td>NaN</td>\n",
       "      <td>NaN</td>\n",
       "      <td>https://www.jobs.cz/rpd/1591719727/</td>\n",
       "      <td>2022-05-26</td>\n",
       "      <td>2022-08-25</td>\n",
       "      <td>False</td>\n",
       "      <td>False</td>\n",
       "      <td>True</td>\n",
       "      <td>False</td>\n",
       "      <td>False</td>\n",
       "      <td>True</td>\n",
       "      <td>False</td>\n",
       "      <td>False</td>\n",
       "      <td>False</td>\n",
       "      <td>C# vývojář</td>\n",
       "      <td>Back-end Software development</td>\n",
       "      <td>91</td>\n",
       "      <td>61+</td>\n",
       "      <td>501</td>\n",
       "      <td>31+</td>\n",
       "      <td>1777f9582bdd7f52ff1e0e967c3c783973d5e46d11859b...</td>\n",
       "    </tr>\n",
       "    <tr>\n",
       "      <th>2</th>\n",
       "      <td>jobs_cz</td>\n",
       "      <td>1598676535</td>\n",
       "      <td>Business / IT Analyst</td>\n",
       "      <td>Cleverlance Enterprise Solutions s.r.o.</td>\n",
       "      <td>Praha</td>\n",
       "      <td>Hlavní město Praha</td>\n",
       "      <td>65000</td>\n",
       "      <td>110000</td>\n",
       "      <td>https://www.jobs.cz/rpd/1598676535/</td>\n",
       "      <td>2022-08-24</td>\n",
       "      <td>2022-09-22</td>\n",
       "      <td>False</td>\n",
       "      <td>False</td>\n",
       "      <td>False</td>\n",
       "      <td>False</td>\n",
       "      <td>False</td>\n",
       "      <td>True</td>\n",
       "      <td>False</td>\n",
       "      <td>True</td>\n",
       "      <td>False</td>\n",
       "      <td>Business analytik</td>\n",
       "      <td>Business analyst (consultant)</td>\n",
       "      <td>29</td>\n",
       "      <td>15-30</td>\n",
       "      <td>411</td>\n",
       "      <td>31+</td>\n",
       "      <td>12213571c5ebc7eccd8f67684566a1e138a9c0fe219255...</td>\n",
       "    </tr>\n",
       "  </tbody>\n",
       "</table>\n",
       "</div>"
      ],
      "text/plain": [
       "    source          id                                            name  \\\n",
       "0  jobs_cz  1590329021                             Security Specialist   \n",
       "1  jobs_cz  1591719727  C# .NET Developer pro IB Commodities Reporting   \n",
       "2  jobs_cz  1598676535                           Business / IT Analyst   \n",
       "\n",
       "                                         company   city              county  \\\n",
       "0                                        Manuvia  Praha  Hlavní město Praha   \n",
       "1  COMMERZBANK Aktiengesellschaft, pobočka Praha  Praha  Hlavní město Praha   \n",
       "2        Cleverlance Enterprise Solutions s.r.o.  Praha  Hlavní město Praha   \n",
       "\n",
       "   CZK_salary_from  CZK_salary_to                                  url  \\\n",
       "0              NaN            NaN  https://www.jobs.cz/rpd/1590329021/   \n",
       "1              NaN            NaN  https://www.jobs.cz/rpd/1591719727/   \n",
       "2            65000         110000  https://www.jobs.cz/rpd/1598676535/   \n",
       "\n",
       "  date_start    date_end  junior maternity  remote_partly  remote_fully  \\\n",
       "0 2022-05-10  2022-09-06   False     False          False         False   \n",
       "1 2022-05-26  2022-08-25   False     False           True         False   \n",
       "2 2022-08-24  2022-09-22   False     False          False         False   \n",
       "\n",
       "   part_time  full_time edu_basic edu_high edu_university  \\\n",
       "0      False       True     False    False          False   \n",
       "1      False       True     False    False          False   \n",
       "2      False       True     False     True          False   \n",
       "\n",
       "                 category         Kategorie_by_Czechitas  date_difference  \\\n",
       "0  IT Security Specialist                    IT security              119   \n",
       "1              C# vývojář  Back-end Software development               91   \n",
       "2       Business analytik  Business analyst (consultant)               29   \n",
       "\n",
       "  date_difference_range  date_posted date_posted_range  \\\n",
       "0                   61+          517               31+   \n",
       "1                   61+          501               31+   \n",
       "2                 15-30          411               31+   \n",
       "\n",
       "                                              job_id  \n",
       "0  2ff29b0b054abcd27e49693c1df601d22815cfa310374a...  \n",
       "1  1777f9582bdd7f52ff1e0e967c3c783973d5e46d11859b...  \n",
       "2  12213571c5ebc7eccd8f67684566a1e138a9c0fe219255...  "
      ]
     },
     "execution_count": 5,
     "metadata": {},
     "output_type": "execute_result"
    }
   ],
   "source": [
    "df.head(3)"
   ]
  },
  {
   "cell_type": "code",
   "execution_count": 6,
   "id": "f12be5f7-9a0b-4ce5-beb8-448dac6f1147",
   "metadata": {
    "tags": []
   },
   "outputs": [],
   "source": [
    "df['name'] = df['name'].str.lower()"
   ]
  },
  {
   "cell_type": "code",
   "execution_count": 7,
   "id": "f7c33767-8149-47e2-b178-01efe5b66a55",
   "metadata": {
    "tags": []
   },
   "outputs": [],
   "source": [
    "# jobs = df[[\"id\", \"name\"]].drop_duplicates().groupby(\"name\").size().reset_index().sort_values(0, ascending=False)"
   ]
  },
  {
   "cell_type": "code",
   "execution_count": 8,
   "id": "a68a8475-1be1-433e-9ec4-98d9898e69be",
   "metadata": {
    "tags": []
   },
   "outputs": [],
   "source": [
    "# Define a function for custom job categorization based on the conditions provided\n",
    "def custom_job_categorization(job_name_lower):\n",
    "        \n",
    "    if \"test\" in job_name_lower or \"quality\" in job_name_lower or \"qa\" in job_name_lower:\n",
    "        return \"Testing\"\n",
    "    \n",
    "    elif ((\"javascript\" in job_name_lower) or\n",
    "          (\"php\" in job_name_lower) or\n",
    "          (\"front\" in job_name_lower and \"end\" in job_name_lower) or\n",
    "          (\".js\" in job_name_lower) or\n",
    "          (\"wordpress\" in job_name_lower) or\n",
    "          (\"angular\" in job_name_lower) or\n",
    "          (\"react\" in job_name_lower) or\n",
    "          (\"web\" in job_name_lower and (\"develop\" in job_name_lower or \"program\" in job_name_lower or \"master\" in job_name_lower or \"vývoj\" in job_name_lower or \"kod\" in job_name_lower))):\n",
    "        return \"Web & Frontend Development\"\n",
    "    \n",
    "    elif (\"c#\" in job_name_lower or\n",
    "          \".net\" in job_name_lower or\n",
    "          \"java\" in job_name_lower or\n",
    "          \"javist\" in job_name_lower or\n",
    "          \"javě\" in job_name_lower or\n",
    "          \"python\" in job_name_lower or\n",
    "          \"c++\" in job_name_lower or\n",
    "          (\"back\" in job_name_lower and \"end\" in job_name_lower) or\n",
    "          \"software\" in job_name_lower):\n",
    "        return \"Backend Development\"\n",
    "    \n",
    "    elif ((\"machine\" in job_name_lower and \"learning\" in job_name_lower)  or\n",
    "          (\"datov\" in job_name_lower and \"věd\" in job_name_lower)  or\n",
    "          \"ai/ml\" in job_name_lower or\n",
    "          \"ai \" in job_name_lower or\n",
    "          \"data science\" in job_name_lower or\n",
    "          \"artificial\" in job_name_lower or\n",
    "          (\"stroj\" in job_name_lower and \"učen\" in job_name_lower)):\n",
    "        return \"Data Science / Machine Learning / Artificial Intelligence\"\n",
    "    \n",
    "    elif ((\"business\" in job_name_lower and (\"anal\" in job_name_lower or \"intell\" in job_name_lower)) or\n",
    "          \"reporting\" in job_name_lower or\n",
    "          \"sql\" in job_name_lower or\n",
    "          \"qlik\" in job_name_lower or\n",
    "          \"big data\" in job_name_lower):\n",
    "        return \"Data Analytics / Business Intelligence / Reporting\"\n",
    "    \n",
    "    elif (\"recruit\" in job_name_lower or\n",
    "      (\"back\" in job_name_lower and \"office\" in job_name_lower) or\n",
    "      \"konstrukt\" in job_name_lower or\n",
    "      \"r&d\" in job_name_lower or\n",
    "      \"compliance\" in job_name_lower):\n",
    "        return \"Not Relevant Positions\"\n",
    "    \n",
    "    elif \"security\" in job_name_lower or \"kyber\" in job_name_lower or \"cyber\" in job_name_lower or \"bezpeč\" in job_name_lower or \"data privacy\" in job_name_lower or \"data protection\" in job_name_lower:\n",
    "        return \"Cybersecurity\"\n",
    "    \n",
    "    elif \"android\" in job_name_lower or \"ios\" in job_name_lower:\n",
    "        return \"Not Relevant Positions\"\n",
    "    \n",
    "    elif \"salesforce\" in job_name_lower:\n",
    "        return \"Marketing Technology\"\n",
    "    \n",
    "    elif \"sap\" in job_name_lower:\n",
    "        return \"Not Relevant Positions\"\n",
    "    \n",
    "    elif \"proje\" in job_name_lower or \"produ\" in job_name_lower:\n",
    "        return \"Not Relevant Positions\"\n",
    "    \n",
    "    elif \"scrum\" in job_name_lower:\n",
    "        return \"Not Relevant Positions\"\n",
    "    \n",
    "    elif \"marke\" in job_name_lower or \"social\" in job_name_lower or \"ppc\" in job_name_lower or \"seo\" in job_name_lower or \"rtb\" in job_name_lower:\n",
    "        return \"Marketing Technology\"\n",
    "    \n",
    "    elif \"dwh\" in job_name_lower or \"datab\" in job_name_lower or \"db \" in job_name_lower:\n",
    "        return \"Data Analytics / Business Intelligence / Reporting\"\n",
    "\n",
    "    elif ((\"it\" in job_name_lower and \"spec\" in job_name_lower) or\n",
    "          \"it analy\" in job_name_lower or\n",
    "          (\"it\" in job_name_lower and \"support\" in job_name_lower) or\n",
    "          (\"it\" in job_name_lower and \"admin\" in job_name_lower) or\n",
    "          (\"it\" in job_name_lower and \"správc\" in job_name_lower) or\n",
    "          (\"it\" in job_name_lower and \"techni\" in job_name_lower) or\n",
    "          \"devops\" in job_name_lower or\n",
    "          (\"it\" in job_name_lower and \"syst\" in job_name_lower) or\n",
    "          \"it \" in job_name_lower):\n",
    "        return \"Not Relevant Positions\"\n",
    "    \n",
    "    elif (\"anal\" in job_name_lower or\n",
    "          \"data \" in job_name_lower or\n",
    "          \"datový \" in job_name_lower or\n",
    "          \"datová \" in job_name_lower or\n",
    "          ((\"bi\" in job_name_lower or \"dat\" in job_name_lower or \"dát\" in job_name_lower) and\n",
    "           (\"power\" in job_name_lower or\n",
    "            \"onsult\" in job_name_lower or\n",
    "            \"anal\" in job_name_lower or\n",
    "            \"onzult\" in job_name_lower or\n",
    "            \"develop\" in job_name_lower or\n",
    "            \"data\" in job_name_lower or\n",
    "            \"exp\" in job_name_lower or\n",
    "            \"design\" in job_name_lower or\n",
    "            \"program\" in job_name_lower or\n",
    "            \"manag\" in job_name_lower or\n",
    "            \"admin\" in job_name_lower or\n",
    "            \"archit\" in job_name_lower or\n",
    "            \"engineer\" in job_name_lower or\n",
    "            \"inž\" in job_name_lower or\n",
    "            \"mod\" in job_name_lower or\n",
    "            \"special\" in job_name_lower or\n",
    "            \"lead\" in job_name_lower or\n",
    "            \"etl\" in job_name_lower))):\n",
    "        return \"Data Analytics / Business Intelligence / Reporting\"\n",
    "    \n",
    "    elif (\"graph\" in job_name_lower or\n",
    "          \"graf\" in job_name_lower or\n",
    "          \" ux\" in job_name_lower or\n",
    "          \"ux \" in job_name_lower or\n",
    "          \"design\" in job_name_lower or\n",
    "          \" ui\" in job_name_lower or\n",
    "          \"ui \" in job_name_lower or\n",
    "          \"user experience\" in job_name_lower):\n",
    "        return \"UX / UI / Graphic Design\"\n",
    "    \n",
    "    elif (\"full\" in job_name_lower and \"stack\" in job_name_lower) or \"fullstack\" in job_name_lower:\n",
    "        return \"Backend Development\"\n",
    "    else:\n",
    "        return \"Not Relevant Positions\""
   ]
  },
  {
   "cell_type": "code",
   "execution_count": 9,
   "id": "ed8efe58-cbd3-4bdb-a1f7-f4307f268185",
   "metadata": {
    "tags": []
   },
   "outputs": [],
   "source": [
    "df['job_category'] = df['name'].apply(custom_job_categorization)"
   ]
  },
  {
   "cell_type": "code",
   "execution_count": 10,
   "id": "ca14650f-21ff-48ec-bc32-3b83495e9c98",
   "metadata": {
    "tags": []
   },
   "outputs": [],
   "source": [
    "df = df[[\"job_id\", \"date_start\", \"job_category\"]]"
   ]
  },
  {
   "cell_type": "code",
   "execution_count": 11,
   "id": "cc840ac6-2aa2-4f6f-8b64-09359e8b48dc",
   "metadata": {
    "tags": []
   },
   "outputs": [],
   "source": [
    "df.to_csv(\"job_advertisements.csv\", index=False)"
   ]
  },
  {
   "cell_type": "markdown",
   "id": "415a2916-5698-4bd0-9890-3e5fb46ff349",
   "metadata": {},
   "source": [
    "## Courses"
   ]
  },
  {
   "cell_type": "code",
   "execution_count": 12,
   "id": "ee1ce8e9-4ae8-4b25-bf4a-b6bfd00e2151",
   "metadata": {
    "tags": []
   },
   "outputs": [],
   "source": [
    "# Read Excel file\n",
    "df_event = pd.read_excel('datasets/jirka/v_event.xlsx', sheet_name='Result 1')"
   ]
  },
  {
   "cell_type": "code",
   "execution_count": 13,
   "id": "4112995a-e1a3-4e60-b17d-610f57e5f996",
   "metadata": {
    "tags": []
   },
   "outputs": [],
   "source": [
    "# Convert the 'Nazev_Produktu' column to lowercase\n",
    "df_event['nazev_produktu'] = df_event['nazev_produktu'].str.lower()\n",
    "df_event['cycle'] = df_event['cycle'].str.lower()"
   ]
  },
  {
   "cell_type": "code",
   "execution_count": 14,
   "id": "998f0207-199f-47a6-b8be-1e728353a63c",
   "metadata": {
    "tags": []
   },
   "outputs": [],
   "source": [
    "df_event = df_event[df_event[\"cycle\"]!=\"ostatní\"]\n",
    "df_event = df_event[df_event[\"cycle\"]!=\"komunitní akce\"]"
   ]
  },
  {
   "cell_type": "code",
   "execution_count": 15,
   "id": "af3948cf-816d-4470-b9bb-755f804416c6",
   "metadata": {
    "tags": []
   },
   "outputs": [],
   "source": [
    "def update_cycle_names(cycle_name):\n",
    "    # Create a mapping dictionary for the name changes\n",
    "    name_changes = {\n",
    "        'tvorba webu': 'tvořím web',\n",
    "        'testování': 'testuju',\n",
    "        'programování': 'programuju',\n",
    "        # Add more changes here as needed\n",
    "    }\n",
    "    \n",
    "    # Check if the cycle_name exists in the dictionary keys and update accordingly\n",
    "    return name_changes.get(cycle_name, cycle_name)\n",
    "\n",
    "# Apply the function to update the 'cycle' names\n",
    "df_event['cycle'] = df_event['cycle'].apply(update_cycle_names)"
   ]
  },
  {
   "cell_type": "code",
   "execution_count": 16,
   "id": "abc6d8c8-6f55-4e15-b685-4832279c9923",
   "metadata": {
    "tags": []
   },
   "outputs": [],
   "source": [
    "# Convert the 'start_at' and 'end_at' columns to datetime type if they are not already\n",
    "df_event['start_at'] = pd.to_datetime(df_event['start_at'])\n",
    "df_event['end_at'] = pd.to_datetime(df_event['end_at'])\n",
    "\n",
    "# Filter the rows where 'start_at' is greater than '2022-01-01'\n",
    "df_event = df_event[df_event['start_at'] >= '2020-01-01']\n",
    "\n",
    "# filter hotova\n",
    "df_event = df_event[~df_event[\"event_state\"].str.startswith((\"zrušená\", \"zamítnutá\"))]\n",
    "df_event = df_event[df_event[\"teaching_hours\"]>0]\n",
    "df_event = df_event[~df_event['nazev_produktu'].str.contains(\"učitel\", case=False)]\n",
    "df_event = df_event[~df_event['nazev_produktu'].str.contains(\"meetup\", case=False)]\n",
    "df_event = df_event[~df_event['nazev_produktu'].str.contains(\"meet up\", case=False)]\n",
    "df_event = df_event[~df_event['nazev_produktu'].str.contains(\"job fair\", case=False)]"
   ]
  },
  {
   "cell_type": "code",
   "execution_count": 17,
   "id": "0a86c637-efa5-4602-96ef-7548392f8df3",
   "metadata": {
    "tags": []
   },
   "outputs": [],
   "source": [
    "# df_event[\"event_state\"].drop_duplicates()"
   ]
  },
  {
   "cell_type": "code",
   "execution_count": 18,
   "id": "f8274011-e4d4-4b0e-83e4-a7f46473bfe5",
   "metadata": {
    "tags": []
   },
   "outputs": [],
   "source": [
    "# Define a function to determine the course type\n",
    "def assign_state_corr(event_state):\n",
    "    if event_state == \"hotová\" or event_state == \"vyhodnocení\":\n",
    "        return \"completed\"\n",
    "    elif event_state == \"probíhá\":\n",
    "        return \"ongoing\"\n",
    "    else:\n",
    "        return \"upcoming\"\n",
    "\n",
    "# Apply the function to create the new 'course_type' column\n",
    "df_event['event_state_english'] = df_event[\"event_state\"].apply(assign_state_corr)"
   ]
  },
  {
   "cell_type": "code",
   "execution_count": 19,
   "id": "016ca3c0-8993-4edd-b6b2-27819341b61f",
   "metadata": {
    "tags": []
   },
   "outputs": [],
   "source": [
    "# # Define a function to determine the course type\n",
    "# def get_course_type(row):\n",
    "#     if row['nazev_produktu'].startswith(\"digitální akademie\"):\n",
    "#         return \"Digital Academy\"\n",
    "#     elif row['start_at'] == row['end_at']:\n",
    "#         return \"One Day Course\"\n",
    "#     else:\n",
    "#         return \"Multiple Days Course\"\n",
    "\n",
    "# # Apply the function to create the new 'course_type' column\n",
    "# df_event['course_type'] = df_event.apply(get_course_type, axis=1)"
   ]
  },
  {
   "cell_type": "code",
   "execution_count": 20,
   "id": "12a0b32e-b6bd-47ea-b1eb-7c4a63158b61",
   "metadata": {
    "tags": []
   },
   "outputs": [],
   "source": [
    "# # Define a function to determine the course level based on 'nazev_produktu'\n",
    "# def get_course_level(nazev_produktu):\n",
    "#     if (\"2\" in nazev_produktu or\n",
    "#           (\"3\" in nazev_produktu and \"365\" not in nazev_produktu) or\n",
    "#           \"digitální akademie\" in nazev_produktu or\n",
    "#           \"data science\" in nazev_produktu or\n",
    "#           \"objektově orientované\" in nazev_produktu or\n",
    "#           \"vba\" in nazev_produktu):\n",
    "#         return \"Advanced\"\n",
    "    \n",
    "#     elif (\"úvod\" in nazev_produktu or\n",
    "#         \"1\" in nazev_produktu or\n",
    "#         \"poznej\" in nazev_produktu or\n",
    "#         \"základ\" in nazev_produktu or\n",
    "#         \"start\" in nazev_produktu or\n",
    "#         \"staň\" in nazev_produktu or\n",
    "#          \"agilní vývoj: scrum\" in nazev_produktu):\n",
    "#         return \"Beginner\"\n",
    "   \n",
    "#     else:\n",
    "#         return \"All Levels\"\n",
    "\n",
    "# # Apply the function to create a new 'course_level' column\n",
    "# df_event['course_level'] = df_event['nazev_produktu'].apply(get_course_level)"
   ]
  },
  {
   "cell_type": "code",
   "execution_count": 21,
   "id": "e6271665-ec53-4c17-97cb-665dae274dd9",
   "metadata": {
    "tags": []
   },
   "outputs": [],
   "source": [
    "# Define a function to assign categories based on 'cycle' and 'nazev_produktu'\n",
    "def assign_job_matching_category(row):\n",
    "    if (\"seo\" in row['nazev_produktu'] or\n",
    "        \"copywriting\" in row['nazev_produktu']):\n",
    "        return \"Marketing Technology\"\n",
    "    \n",
    "    elif 'javascript' in row['nazev_produktu'] or 'wordpress' in row['nazev_produktu']:\n",
    "        return \"Web & Frontend Development\"\n",
    "    \n",
    "    elif ('java' in row['nazev_produktu'] or\n",
    "        'c#' in row['nazev_produktu']):\n",
    "        return 'Backend Development'\n",
    "    \n",
    "    elif ('bezpeč' in row['nazev_produktu']):\n",
    "        return 'Cybersecurity'\n",
    "    \n",
    "    elif ('data science' in row['nazev_produktu']):\n",
    "        return 'Data Science / Machine Learning /Artificial Intelligence'\n",
    "    \n",
    "    elif (\"figma\" in row['nazev_produktu'] or\n",
    "          \"canva\" in row['nazev_produktu'] or\n",
    "          \"ux\" in row['nazev_produktu']):\n",
    "        return \"UX / UI / Graphic Design\"\n",
    "    \n",
    "    elif (\" git\" in row['nazev_produktu'] or \"it analýza\" in row['nazev_produktu'] or \"devops\" in row['nazev_produktu']):\n",
    "        return \"Other\"\n",
    "    \n",
    "    elif (\"scrum\" in row['nazev_produktu']):\n",
    "        return \"Other\"\n",
    "    \n",
    "    elif (\"salesforce\" in row['nazev_produktu']):\n",
    "        return \"Marketing Technology\"\n",
    "    \n",
    "    elif (\"tvořím web\" in row['cycle']):\n",
    "        return \"Web & Frontend Development\"\n",
    "    \n",
    "    elif (\"programuju\" in row['cycle']):\n",
    "        return \"Backend Development\"\n",
    "    \n",
    "    elif (\"testuju\" in row['cycle']):\n",
    "        return \"Testing\"\n",
    "    \n",
    "    elif (\"kybernetická bezpečnost\" in row['cycle']):\n",
    "        return \"Cybersecurity\"\n",
    "    \n",
    "    elif 'datová analýza' in row['cycle']:\n",
    "        return 'Data Analytics / Business Intelligence / Reporting'\n",
    "    \n",
    "    elif 'kariér' in row['cycle']:\n",
    "        return 'Career'\n",
    "    \n",
    "    else:\n",
    "        return 'Other'\n",
    "\n",
    "# Apply the function to create a new column in the DataFrame\n",
    "df_event['job_category'] = df_event.apply(assign_job_matching_category, axis=1)"
   ]
  },
  {
   "cell_type": "code",
   "execution_count": 22,
   "id": "e9da76ef-c09f-43fd-8a54-110dce5f0536",
   "metadata": {
    "tags": []
   },
   "outputs": [],
   "source": [
    "df_event = df_event[df_event[\"job_category\"]!=\"Other\"]\n",
    "df_event = df_event[df_event[\"job_category\"]!=\"Career\"]\n",
    "# Filter out rows where 'nazev_produktu' contains \"kroužek\"\n",
    "df_event = df_event[~df_event['nazev_produktu'].str.contains('kroužek')]"
   ]
  },
  {
   "cell_type": "code",
   "execution_count": 23,
   "id": "a2a11275-f4c7-4780-af51-a8bb44e8639a",
   "metadata": {
    "tags": []
   },
   "outputs": [],
   "source": [
    "relevant_events = df_event[[\"event_id\", \"job_category\"]].drop_duplicates().reset_index()"
   ]
  },
  {
   "cell_type": "code",
   "execution_count": 24,
   "id": "1bdce6d6-4328-4cbe-a289-15ee119266db",
   "metadata": {},
   "outputs": [],
   "source": [
    "# Hash the 'event_id' column\n",
    "df_event['course_id'] = df_event['event_id'].apply(lambda x: hashlib.sha256(str(x).encode()).hexdigest())"
   ]
  },
  {
   "cell_type": "code",
   "execution_count": 25,
   "id": "5bf0c324-1a4b-407c-9559-03743be14b5e",
   "metadata": {
    "tags": []
   },
   "outputs": [],
   "source": [
    "df_event = df_event[[\"course_id\", \"nazev_produktu\", \"start_at\", \"end_at\", \"event_state_english\", \"teaching_hours\", \"job_category\", \"study_form\"]]"
   ]
  },
  {
   "cell_type": "code",
   "execution_count": 26,
   "id": "51dfd8fe-94e1-4376-a944-7b17c4bbb760",
   "metadata": {
    "tags": []
   },
   "outputs": [],
   "source": [
    "df_event.to_csv(\"courses.csv\", index=False)"
   ]
  },
  {
   "cell_type": "markdown",
   "id": "d424286d-daa8-4407-9a38-6e1fb3c4424d",
   "metadata": {},
   "source": [
    "## Participants"
   ]
  },
  {
   "cell_type": "code",
   "execution_count": 27,
   "id": "79405437-b828-4b80-a243-6261148bd8d3",
   "metadata": {},
   "outputs": [],
   "source": [
    "# Read Excel file\n",
    "df_participant = pd.read_excel('datasets/jirka/participant_registration.xlsx', sheet_name='Result 1')"
   ]
  },
  {
   "cell_type": "code",
   "execution_count": 28,
   "id": "2217588f-0b58-4878-9f16-c249da1b8f25",
   "metadata": {
    "tags": []
   },
   "outputs": [
    {
     "data": {
      "text/html": [
       "<div>\n",
       "<style scoped>\n",
       "    .dataframe tbody tr th:only-of-type {\n",
       "        vertical-align: middle;\n",
       "    }\n",
       "\n",
       "    .dataframe tbody tr th {\n",
       "        vertical-align: top;\n",
       "    }\n",
       "\n",
       "    .dataframe thead th {\n",
       "        text-align: right;\n",
       "    }\n",
       "</style>\n",
       "<table border=\"1\" class=\"dataframe\">\n",
       "  <thead>\n",
       "    <tr style=\"text-align: right;\">\n",
       "      <th></th>\n",
       "      <th>user_id</th>\n",
       "      <th>event_participant_id</th>\n",
       "      <th>event_id</th>\n",
       "      <th>age_group</th>\n",
       "      <th>region</th>\n",
       "      <th>technology_experience</th>\n",
       "      <th>motivation</th>\n",
       "      <th>expectation</th>\n",
       "      <th>participant_state</th>\n",
       "      <th>alumni_state</th>\n",
       "    </tr>\n",
       "  </thead>\n",
       "  <tbody>\n",
       "    <tr>\n",
       "      <th>0</th>\n",
       "      <td>28274</td>\n",
       "      <td>180919</td>\n",
       "      <td>1938</td>\n",
       "      <td>19-26</td>\n",
       "      <td>Hlavní město Praha</td>\n",
       "      <td>NaN</td>\n",
       "      <td>NaN</td>\n",
       "      <td>Je to směr, kterým se chci vydat? Bavilo by mě...</td>\n",
       "      <td>Zúčastněný</td>\n",
       "      <td>True</td>\n",
       "    </tr>\n",
       "    <tr>\n",
       "      <th>1</th>\n",
       "      <td>19503</td>\n",
       "      <td>176412</td>\n",
       "      <td>1790</td>\n",
       "      <td>27-35</td>\n",
       "      <td>Hlavní město Praha</td>\n",
       "      <td>NaN</td>\n",
       "      <td>NaN</td>\n",
       "      <td>NaN</td>\n",
       "      <td>Nezúčastněný</td>\n",
       "      <td>False</td>\n",
       "    </tr>\n",
       "    <tr>\n",
       "      <th>2</th>\n",
       "      <td>28273</td>\n",
       "      <td>180917</td>\n",
       "      <td>1907</td>\n",
       "      <td>NaN</td>\n",
       "      <td>Hlavní město Praha</td>\n",
       "      <td>zkousela_jsme</td>\n",
       "      <td>chci_lepsi_uplatneni</td>\n",
       "      <td>Větší přehled o datových modelech, základy SQL...</td>\n",
       "      <td>Zúčastněný</td>\n",
       "      <td>True</td>\n",
       "    </tr>\n",
       "  </tbody>\n",
       "</table>\n",
       "</div>"
      ],
      "text/plain": [
       "   user_id  event_participant_id  event_id age_group              region  \\\n",
       "0    28274                180919      1938     19-26  Hlavní město Praha   \n",
       "1    19503                176412      1790     27-35  Hlavní město Praha   \n",
       "2    28273                180917      1907       NaN  Hlavní město Praha   \n",
       "\n",
       "  technology_experience            motivation  \\\n",
       "0                   NaN                   NaN   \n",
       "1                   NaN                   NaN   \n",
       "2         zkousela_jsme  chci_lepsi_uplatneni   \n",
       "\n",
       "                                         expectation participant_state  \\\n",
       "0  Je to směr, kterým se chci vydat? Bavilo by mě...        Zúčastněný   \n",
       "1                                                NaN      Nezúčastněný   \n",
       "2  Větší přehled o datových modelech, základy SQL...        Zúčastněný   \n",
       "\n",
       "   alumni_state  \n",
       "0          True  \n",
       "1         False  \n",
       "2          True  "
      ]
     },
     "execution_count": 28,
     "metadata": {},
     "output_type": "execute_result"
    }
   ],
   "source": [
    "df_participant.head(3)"
   ]
  },
  {
   "cell_type": "code",
   "execution_count": 29,
   "id": "45e3a8a8-f429-4887-8a47-f7b9ef2da84a",
   "metadata": {
    "tags": []
   },
   "outputs": [],
   "source": [
    "df_uplatnene = pd.read_excel('datasets/jirka/car_uplatnene.xlsx', sheet_name='Result 1')"
   ]
  },
  {
   "cell_type": "code",
   "execution_count": 30,
   "id": "5a2c68d1-2f92-42a6-a095-684f52cd9f0c",
   "metadata": {
    "tags": []
   },
   "outputs": [],
   "source": [
    "# Add a new column \"IT_job\" with all values set to True\n",
    "df_uplatnene['got_IT_job_after_digital_academy'] = True"
   ]
  },
  {
   "cell_type": "code",
   "execution_count": 31,
   "id": "6905e010-a2fa-464e-9078-2b8ec2507aaa",
   "metadata": {
    "tags": []
   },
   "outputs": [],
   "source": [
    "df_event_participants = relevant_events.merge(df_participant, on=\"event_id\", how=\"left\")"
   ]
  },
  {
   "cell_type": "code",
   "execution_count": 32,
   "id": "907cbbe1-2cf3-469f-a437-becd6b5ccae7",
   "metadata": {
    "tags": []
   },
   "outputs": [],
   "source": [
    "df_event_part_job = df_event_participants.merge(df_uplatnene, on=\"user_id\", how=\"left\")"
   ]
  },
  {
   "cell_type": "code",
   "execution_count": 33,
   "id": "3c9348c5-2239-45db-ac7c-25bc4f5b8d19",
   "metadata": {
    "tags": []
   },
   "outputs": [],
   "source": [
    "# Fill null values in the \"IT_job\" column with False\n",
    "df_event_part_job['got_IT_job_after_digital_academy'].fillna(False, inplace=True)"
   ]
  },
  {
   "cell_type": "code",
   "execution_count": 34,
   "id": "91b29ea4-fd58-423b-9a3b-7bd43b5183e2",
   "metadata": {
    "tags": []
   },
   "outputs": [],
   "source": [
    "df_event_part_job = df_event_part_job[df_event_part_job['participant_state'].notna()]"
   ]
  },
  {
   "cell_type": "code",
   "execution_count": 35,
   "id": "107daa75-7825-41e7-8ccf-30f210546a05",
   "metadata": {
    "tags": []
   },
   "outputs": [],
   "source": [
    "# Define a function to determine the course type\n",
    "def assign_participant_state(participant_state):\n",
    "    if \"Zrušený\" in participant_state:\n",
    "        return \"Registration Cancelled\"\n",
    "    elif participant_state == \"Zúčastněný\":\n",
    "        return \"Participated\"\n",
    "    elif participant_state == \"Nezúčastněný\":\n",
    "        return \"Did Not Participate\"\n",
    "    elif \"Nepřijatý\" in participant_state:\n",
    "        return \"Not Accepted\"\n",
    "    elif participant_state == \"Přijatý\":\n",
    "        return \"Accepted\"\n",
    "    elif participant_state == \"Přihlášený\":\n",
    "        return \"Applied\"\n",
    "    else:\n",
    "        return \"Other\"\n",
    "\n",
    "# Apply the function to create the new 'course_type' column\n",
    "df_event_part_job['participant_state_english'] = df_event_part_job[\"participant_state\"].apply(assign_participant_state)"
   ]
  },
  {
   "cell_type": "code",
   "execution_count": 36,
   "id": "412b2215-1025-47d8-816a-5472356f9c2e",
   "metadata": {
    "tags": []
   },
   "outputs": [
    {
     "data": {
      "text/html": [
       "<div>\n",
       "<style scoped>\n",
       "    .dataframe tbody tr th:only-of-type {\n",
       "        vertical-align: middle;\n",
       "    }\n",
       "\n",
       "    .dataframe tbody tr th {\n",
       "        vertical-align: top;\n",
       "    }\n",
       "\n",
       "    .dataframe thead th {\n",
       "        text-align: right;\n",
       "    }\n",
       "</style>\n",
       "<table border=\"1\" class=\"dataframe\">\n",
       "  <thead>\n",
       "    <tr style=\"text-align: right;\">\n",
       "      <th></th>\n",
       "      <th>index</th>\n",
       "      <th>event_id</th>\n",
       "      <th>job_category</th>\n",
       "      <th>user_id</th>\n",
       "      <th>event_participant_id</th>\n",
       "      <th>age_group</th>\n",
       "      <th>region</th>\n",
       "      <th>technology_experience</th>\n",
       "      <th>motivation</th>\n",
       "      <th>expectation</th>\n",
       "      <th>participant_state</th>\n",
       "      <th>alumni_state</th>\n",
       "      <th>got_IT_job_after_digital_academy</th>\n",
       "      <th>participant_state_english</th>\n",
       "    </tr>\n",
       "  </thead>\n",
       "  <tbody>\n",
       "    <tr>\n",
       "      <th>0</th>\n",
       "      <td>75</td>\n",
       "      <td>77</td>\n",
       "      <td>Backend Development</td>\n",
       "      <td>2204</td>\n",
       "      <td>2518</td>\n",
       "      <td>NaN</td>\n",
       "      <td>NaN</td>\n",
       "      <td>nevim_o_co_jde</td>\n",
       "      <td>technologie_se_mi_hodi</td>\n",
       "      <td>Úvod do programování, zjistit co a kde si dále...</td>\n",
       "      <td>Zúčastněný</td>\n",
       "      <td>True</td>\n",
       "      <td>False</td>\n",
       "      <td>Participated</td>\n",
       "    </tr>\n",
       "    <tr>\n",
       "      <th>1</th>\n",
       "      <td>75</td>\n",
       "      <td>77</td>\n",
       "      <td>Backend Development</td>\n",
       "      <td>2291</td>\n",
       "      <td>2650</td>\n",
       "      <td>NaN</td>\n",
       "      <td>NaN</td>\n",
       "      <td>zkousela_jsme</td>\n",
       "      <td>chci_lepsi_uplatneni</td>\n",
       "      <td>Že se dozvím dové věci a nakopne mě k tomu, ab...</td>\n",
       "      <td>Zúčastněný</td>\n",
       "      <td>True</td>\n",
       "      <td>False</td>\n",
       "      <td>Participated</td>\n",
       "    </tr>\n",
       "    <tr>\n",
       "      <th>2</th>\n",
       "      <td>75</td>\n",
       "      <td>77</td>\n",
       "      <td>Backend Development</td>\n",
       "      <td>1565</td>\n",
       "      <td>3706</td>\n",
       "      <td>NaN</td>\n",
       "      <td>NaN</td>\n",
       "      <td>zkousela_jsme</td>\n",
       "      <td>chci_praci_v_tomto_oboru</td>\n",
       "      <td>Naučení základů C#, na který budu po kurzu moc...</td>\n",
       "      <td>Zrušený účastníkem</td>\n",
       "      <td>False</td>\n",
       "      <td>False</td>\n",
       "      <td>Registration Cancelled</td>\n",
       "    </tr>\n",
       "  </tbody>\n",
       "</table>\n",
       "</div>"
      ],
      "text/plain": [
       "   index  event_id         job_category  user_id  event_participant_id  \\\n",
       "0     75        77  Backend Development     2204                  2518   \n",
       "1     75        77  Backend Development     2291                  2650   \n",
       "2     75        77  Backend Development     1565                  3706   \n",
       "\n",
       "  age_group region technology_experience                motivation  \\\n",
       "0       NaN    NaN        nevim_o_co_jde    technologie_se_mi_hodi   \n",
       "1       NaN    NaN         zkousela_jsme      chci_lepsi_uplatneni   \n",
       "2       NaN    NaN         zkousela_jsme  chci_praci_v_tomto_oboru   \n",
       "\n",
       "                                         expectation   participant_state  \\\n",
       "0  Úvod do programování, zjistit co a kde si dále...          Zúčastněný   \n",
       "1  Že se dozvím dové věci a nakopne mě k tomu, ab...          Zúčastněný   \n",
       "2  Naučení základů C#, na který budu po kurzu moc...  Zrušený účastníkem   \n",
       "\n",
       "  alumni_state  got_IT_job_after_digital_academy participant_state_english  \n",
       "0         True                             False              Participated  \n",
       "1         True                             False              Participated  \n",
       "2        False                             False    Registration Cancelled  "
      ]
     },
     "execution_count": 36,
     "metadata": {},
     "output_type": "execute_result"
    }
   ],
   "source": [
    "df_event_part_job.head(3)"
   ]
  },
  {
   "cell_type": "code",
   "execution_count": 37,
   "id": "7cba7dd5-9267-4551-a467-219f8045a77e",
   "metadata": {
    "tags": []
   },
   "outputs": [],
   "source": [
    "# Hash the 'event_id' column\n",
    "df_event_part_job['course_id'] = df_event_part_job['event_id'].apply(lambda x: hashlib.sha256(str(x).encode()).hexdigest())\n",
    "df_event_part_job['participant_id'] = df_event_part_job['event_participant_id'].apply(lambda x: hashlib.sha256(str(x).encode()).hexdigest())"
   ]
  },
  {
   "cell_type": "code",
   "execution_count": 38,
   "id": "9cd2d5c5-c386-4449-b918-ff24e02cbe4b",
   "metadata": {
    "tags": []
   },
   "outputs": [],
   "source": [
    "relevant_participants = df_event_part_job[[\"course_id\", \"participant_id\", \"age_group\", \"motivation\", \"participant_state_english\", \"got_IT_job_after_digital_academy\"]]"
   ]
  },
  {
   "cell_type": "code",
   "execution_count": 39,
   "id": "81de5007-41be-4a57-b20e-15f90f14c0a8",
   "metadata": {},
   "outputs": [],
   "source": [
    "relevant_participants.to_csv(\"participants.csv\", index=False)"
   ]
  },
  {
   "cell_type": "code",
   "execution_count": 40,
   "id": "70461d95-4c87-4330-90e3-f34c5985b0d5",
   "metadata": {
    "tags": []
   },
   "outputs": [],
   "source": [
    "relevant_motivation = df_event_part_job[df_event_part_job[\"job_category\"]==\"Data Analytics / Business Intelligence / Reporting\"][[\"participant_id\", \"expectation\"]]"
   ]
  },
  {
   "cell_type": "code",
   "execution_count": 41,
   "id": "bd9f5363-3eec-4a58-b662-1e8a053b461a",
   "metadata": {
    "tags": []
   },
   "outputs": [],
   "source": [
    "relevant_motivation = relevant_motivation[relevant_motivation[\"expectation\"].notna()]"
   ]
  },
  {
   "cell_type": "code",
   "execution_count": 42,
   "id": "57d9de63-ed01-452f-8a45-8579056777d9",
   "metadata": {
    "tags": []
   },
   "outputs": [
    {
     "data": {
      "text/html": [
       "<div>\n",
       "<style scoped>\n",
       "    .dataframe tbody tr th:only-of-type {\n",
       "        vertical-align: middle;\n",
       "    }\n",
       "\n",
       "    .dataframe tbody tr th {\n",
       "        vertical-align: top;\n",
       "    }\n",
       "\n",
       "    .dataframe thead th {\n",
       "        text-align: right;\n",
       "    }\n",
       "</style>\n",
       "<table border=\"1\" class=\"dataframe\">\n",
       "  <thead>\n",
       "    <tr style=\"text-align: right;\">\n",
       "      <th></th>\n",
       "      <th>course_id</th>\n",
       "      <th>participant_id</th>\n",
       "      <th>age_group</th>\n",
       "      <th>motivation</th>\n",
       "      <th>participant_state_english</th>\n",
       "      <th>got_IT_job_after_digital_academy</th>\n",
       "    </tr>\n",
       "  </thead>\n",
       "  <tbody>\n",
       "    <tr>\n",
       "      <th>0</th>\n",
       "      <td>a88a7902cb4ef697ba0b6759c50e8c10297ff58f942243...</td>\n",
       "      <td>1ca4cb56d951df8df2bc741ecf0b3441728eba835c6711...</td>\n",
       "      <td>NaN</td>\n",
       "      <td>technologie_se_mi_hodi</td>\n",
       "      <td>Participated</td>\n",
       "      <td>False</td>\n",
       "    </tr>\n",
       "    <tr>\n",
       "      <th>1</th>\n",
       "      <td>a88a7902cb4ef697ba0b6759c50e8c10297ff58f942243...</td>\n",
       "      <td>19bceca6aae94d6c94628fc3c24b7a8f206dae77e2f058...</td>\n",
       "      <td>NaN</td>\n",
       "      <td>chci_lepsi_uplatneni</td>\n",
       "      <td>Participated</td>\n",
       "      <td>False</td>\n",
       "    </tr>\n",
       "    <tr>\n",
       "      <th>2</th>\n",
       "      <td>a88a7902cb4ef697ba0b6759c50e8c10297ff58f942243...</td>\n",
       "      <td>995d8c2b85ecc1775188618e736639d6289693882e240e...</td>\n",
       "      <td>NaN</td>\n",
       "      <td>chci_praci_v_tomto_oboru</td>\n",
       "      <td>Registration Cancelled</td>\n",
       "      <td>False</td>\n",
       "    </tr>\n",
       "  </tbody>\n",
       "</table>\n",
       "</div>"
      ],
      "text/plain": [
       "                                           course_id  \\\n",
       "0  a88a7902cb4ef697ba0b6759c50e8c10297ff58f942243...   \n",
       "1  a88a7902cb4ef697ba0b6759c50e8c10297ff58f942243...   \n",
       "2  a88a7902cb4ef697ba0b6759c50e8c10297ff58f942243...   \n",
       "\n",
       "                                      participant_id age_group  \\\n",
       "0  1ca4cb56d951df8df2bc741ecf0b3441728eba835c6711...       NaN   \n",
       "1  19bceca6aae94d6c94628fc3c24b7a8f206dae77e2f058...       NaN   \n",
       "2  995d8c2b85ecc1775188618e736639d6289693882e240e...       NaN   \n",
       "\n",
       "                 motivation participant_state_english  \\\n",
       "0    technologie_se_mi_hodi              Participated   \n",
       "1      chci_lepsi_uplatneni              Participated   \n",
       "2  chci_praci_v_tomto_oboru    Registration Cancelled   \n",
       "\n",
       "   got_IT_job_after_digital_academy  \n",
       "0                             False  \n",
       "1                             False  \n",
       "2                             False  "
      ]
     },
     "execution_count": 42,
     "metadata": {},
     "output_type": "execute_result"
    }
   ],
   "source": [
    "relevant_participants.head(3)"
   ]
  },
  {
   "cell_type": "code",
   "execution_count": 43,
   "id": "cd58801f-b126-4e9a-bf3a-638964ff8684",
   "metadata": {
    "tags": []
   },
   "outputs": [
    {
     "data": {
      "text/plain": [
       "17384"
      ]
     },
     "execution_count": 43,
     "metadata": {},
     "output_type": "execute_result"
    }
   ],
   "source": [
    "len(relevant_motivation)"
   ]
  },
  {
   "cell_type": "code",
   "execution_count": 44,
   "id": "aaa928e2-d1aa-45bf-8287-b93fdfa4c82b",
   "metadata": {
    "tags": []
   },
   "outputs": [],
   "source": [
    "# participant_motivation = df_event_part_job[[\"course_id\", \"participant_id\", \"expectation\"]]\n",
    "# participant_motivation.to_csv(\"word_motiv.csv\", index=False)\n",
    "# participant_motivation.head(100).to_csv(\"word_motiv_sample.csv\", index=False)"
   ]
  },
  {
   "cell_type": "markdown",
   "id": "6f8290e0-bf39-463d-84e4-b0a7832a805d",
   "metadata": {
    "tags": []
   },
   "source": [
    "### Participants motivation"
   ]
  },
  {
   "cell_type": "code",
   "execution_count": 45,
   "id": "212e5eb9-5513-439c-a404-9c6df6a4dae0",
   "metadata": {
    "tags": []
   },
   "outputs": [],
   "source": [
    "df_motiv_czech_filtered = relevant_motivation\n",
    "\n",
    "# Replace null values in 'expectation' with a unique placeholder\n",
    "# placeholder = \"NoExpectationProvided\"\n",
    "# df_motiv_czech_filtered['expectation'].fillna(placeholder, inplace=True)\n",
    "\n",
    "# Custom list of Czech stop words provided by the user\n",
    "custom_stop_words = [\"06\",\n",
    "                     \"10\",\n",
    "                     \"11\",\n",
    "                     \"2a3\",\n",
    "                     \"2d\",\n",
    "                     \"31\",\n",
    "                     \"365\",\n",
    "                     \"5let\",\n",
    "                     \"39\",\n",
    "                     \"40\",\n",
    "                     \"3jku\",\n",
    "                     \"3mesicnim\",\n",
    "                     \"3měsíčním\",\n",
    "                     \"409007\",\n",
    "                     \"41\",\n",
    "                     \"42\",\n",
    "                     \"43\",\n",
    "                     \"44\",\n",
    "                     \"45\",\n",
    "                     \"46\",\n",
    "                     \"47\",\n",
    "                     \"48\",\n",
    "                     \"50\",\n",
    "                     \"50tce\",\n",
    "                     \"55\",\n",
    "                     \"5ti\",\n",
    "                     \"3x\",\n",
    "                     \"5x\",\n",
    "                     \"6e\",\n",
    "                     \"77\",\n",
    "                     \"80\",\n",
    "                     \"12\",\n",
    "                     \"12ti\",\n",
    "                     \"13\",\n",
    "                     \"13ti\",\n",
    "                     \"14\",\n",
    "                     \"14ti\",\n",
    "                     \"15\",\n",
    "                     \"15ti\",\n",
    "                     \"16\",\n",
    "                     \"16ti\",\n",
    "                     \"17\",\n",
    "                     \"17ti\",\n",
    "                     \"18\",\n",
    "                     \"18ti\",\n",
    "                     \"19\",\n",
    "                     \"19ti\",\n",
    "                     \"20\",\n",
    "                     \"21\",\n",
    "                     \"24\",\n",
    "                     \"25\",\n",
    "                     \"26\",\n",
    "                     \"20ti\",\n",
    "                     \"100\",\n",
    "                     \"150\",\n",
    "                     \"600\",\n",
    "                     \"900\",\n",
    "                     \"1000\",\n",
    "                     \"1995\",\n",
    "                     \"2020\",\n",
    "                     \"2021\",\n",
    "                     \"2022\",\n",
    "                     \"2023\",\n",
    "                     \"2024\",\n",
    "                     \"10000\",\n",
    "                     \"15000\",\n",
    "                     \"10denniho\",\n",
    "                     \"10denního\",\n",
    "                     \"aby\",\n",
    "                     \"abz\",\n",
    "                     \"abych\",\n",
    "                     \"abch\",\n",
    "                     \"ac\",\n",
    "                     \"ač\",\n",
    "                     \"alespoň\",\n",
    "                     \"alespon\",\n",
    "                     \"aspoň\",\n",
    "                     \"aspon\",\n",
    "                     \"analýza\",\n",
    "                     \"analyza\",\n",
    "                     \"analýze\",\n",
    "                     \"analyze\",\n",
    "                     \"analyzu\",\n",
    "                     \"analýzu\",\n",
    "                     \"analýzy\",\n",
    "                     \"analyzy\",\n",
    "                     \"analyzou\",\n",
    "                     \"analýzou\",\n",
    "                     \"analytice\",\n",
    "                     \"analytika\",\n",
    "                     \"analyzovat\",\n",
    "                     \"analytik\",\n",
    "                     \"analyticky\",\n",
    "                     \"analytický\",\n",
    "                     \"analytičky\",\n",
    "                     \"analytiky\",\n",
    "                     \"analýz\",\n",
    "                     \"analyz\",\n",
    "                     \"analyzach\",\n",
    "                     \"analýzách\",\n",
    "                     \"akademii\",\n",
    "                     \"azure\",\n",
    "                     \"to\",\n",
    "                     \"bi\",\n",
    "                     \"by\",\n",
    "                     \"bych\",\n",
    "                     \"byt\",\n",
    "                     \"být\",\n",
    "                     \"bylo\",\n",
    "                     \"bude\",\n",
    "                     \"cemu\",\n",
    "                     \"čemu\",\n",
    "                     \"čištění\",\n",
    "                     \"cisteni\",\n",
    "                     \"cele\",\n",
    "                     \"celé\",\n",
    "                     \"cokoliv\",\n",
    "                     \"cokoli\",\n",
    "                     \"co\",\n",
    "                     \"čo\",\n",
    "                     \"časem\",\n",
    "                     \"casem\",\n",
    "                     \"cem\",\n",
    "                     \"čem\",\n",
    "                     \"da\",\n",
    "                     \"dá\",\n",
    "                     \"dal\",\n",
    "                     \"dál\",\n",
    "                     \"dále\",\n",
    "                     \"dale\",\n",
    "                     \"dalsi\",\n",
    "                     \"další\",\n",
    "                     \"dalsich\",\n",
    "                     \"dalších\",\n",
    "                     \"dalsiho\",\n",
    "                     \"dalšího\",\n",
    "                     \"dane\",\n",
    "                     \"dané\",\n",
    "                     \"daném\",\n",
    "                     \"danem\",\n",
    "                     \"databázi\",\n",
    "                     \"dátabázi\",\n",
    "                     \"dátábází\",\n",
    "                     \"databází\",\n",
    "                     \"databazi\",\n",
    "                     \"databazemi\",\n",
    "                     \"databázemi\",\n",
    "                     \"databáze\",\n",
    "                     \"databaze\",\n",
    "                     \"databazich\",\n",
    "                     \"databázích\",\n",
    "                     \"databázím\",\n",
    "                     \"databazim\",\n",
    "                     \"datovou\",\n",
    "                     \"dat\",\n",
    "                     \"datům\",\n",
    "                     \"datum\",\n",
    "                     \"daty\",\n",
    "                     \"data\",\n",
    "                     \"datova\",\n",
    "                     \"datová\",\n",
    "                     \"datovy\",\n",
    "                     \"datový\",\n",
    "                     \"datoveho\",\n",
    "                     \"datového\",\n",
    "                     \"datové\",\n",
    "                     \"datove\",\n",
    "                     \"datech\",\n",
    "                     \"dělat\",\n",
    "                     \"delat\",\n",
    "                     \"db\",\n",
    "                     \"digitální\",\n",
    "                     \"digitalni\",\n",
    "                     \"díky\",\n",
    "                     \"diky\",\n",
    "                     \"datum\",\n",
    "                     \"datovými\",\n",
    "                     \"datovymi\",\n",
    "                     \"datovej\",\n",
    "                     \"danou\",\n",
    "                     \"danému\",\n",
    "                     \"danemu\",\n",
    "                     \"dělá\",\n",
    "                     \"dela\",\n",
    "                     \"ho\",\n",
    "                     \"excel\",\n",
    "                     \"excell\",\n",
    "                     \"excelem\",\n",
    "                     \"excelu\",\n",
    "                     \"excellu\",\n",
    "                     \"funkci\",\n",
    "                     \"funkcí\",\n",
    "                     \"funkcích\",\n",
    "                     \"funkcich\",\n",
    "                     \"fce\",\n",
    "                     \"grafy\",\n",
    "                     \"hlavne\",\n",
    "                     \"hlavně\",\n",
    "                     \"chci\",\n",
    "                     \"chtěla\",\n",
    "                     \"chtela\",\n",
    "                     \"chcela\",\n",
    "                     \"že\",\n",
    "                     \"som\",\n",
    "                     \"své\",\n",
    "                     \"jak\",\n",
    "                     \"000\",\n",
    "                     \"sa\",\n",
    "                     \"se\",\n",
    "                     \"jsem\",\n",
    "                     \"čem\",\n",
    "                     \"ze\",\n",
    "                     \"že\",\n",
    "                     \"zda\",\n",
    "                     \"nich\",\n",
    "                     \"budu\",\n",
    "                     \"ako\",\n",
    "                     \"idealne\",\n",
    "                     \"ideálně\",\n",
    "                     \"jazyce\",\n",
    "                     \"jazyk\",\n",
    "                     \"jazyku\",\n",
    "                     \"jeho\",\n",
    "                     \"ještě\",\n",
    "                     \"jeste\",\n",
    "                     \"jejim\",\n",
    "                     \"jejím\",\n",
    "                     \"je\",\n",
    "                     \"jestli\",\n",
    "                     \"jít\",\n",
    "                     \"jit\",\n",
    "                     \"jiz\",\n",
    "                     \"již\",\n",
    "                     \"když\",\n",
    "                     \"kdyz\",\n",
    "                     \"konkretni\",\n",
    "                     \"konkrétní\",\n",
    "                     \"konkrétně\",\n",
    "                     \"konkretne\",\n",
    "                     \"kontingenčními\",\n",
    "                     \"kontingencnimi\",\n",
    "                     \"kontingenční\",\n",
    "                     \"kontingencni\",\n",
    "                     \"kurzem\",\n",
    "                     \"li\",\n",
    "                     \"lze\",\n",
    "                     \"mit\",\n",
    "                     \"mít\",\n",
    "                     \"moc\",\n",
    "                     \"mnohem\",\n",
    "                     \"muze\",\n",
    "                     \"může\",\n",
    "                     \"mohlo\",\n",
    "                     \"nejvice\",\n",
    "                     \"nejvíce\",\n",
    "                     \"něm\",\n",
    "                     \"nem\",\n",
    "                     \"nemám\",\n",
    "                     \"nemam\",\n",
    "                     \"ním\",\n",
    "                     \"nim\",\n",
    "                     \"6\",\n",
    "                     \"viz\",\n",
    "                     \"jaké\",\n",
    "                     \"kontingencni\",\n",
    "                     \"kontingenční\",\n",
    "                     \"pc\",\n",
    "                     \"právě\",\n",
    "                     \"prave\",\n",
    "                     \"při\",\n",
    "                     \"pri\",\n",
    "                     \"makra\",\n",
    "                     \"me\",\n",
    "                     \"mě\",\n",
    "                     \"ms\",\n",
    "                     \"mš\",\n",
    "                     \"mne\",\n",
    "                     \"mně\",\n",
    "                     \"moct\",\n",
    "                     \"můžu\",\n",
    "                     \"muzu\",\n",
    "                     \"mohu\",\n",
    "                     \"modely\",\n",
    "                     \"ne\",\n",
    "                     \"nástroje\",\n",
    "                     \"nastroje\",\n",
    "                     \"nástrojem\",\n",
    "                     \"nastrojem\",\n",
    "                     \"nástroji\",\n",
    "                     \"nastroji\",\n",
    "                     \"nej\",\n",
    "                     \"něj\",\n",
    "                     \"něco\",\n",
    "                     \"neco\",\n",
    "                     \"nejake\",\n",
    "                     \"nějaké\",\n",
    "                     \"nejvic\",\n",
    "                     \"nejvíc\",\n",
    "                     \"nejlépe\",\n",
    "                     \"nejlepe\",\n",
    "                     \"nadále\",\n",
    "                     \"nadale\",\n",
    "                     \"vse\",\n",
    "                     \"vše\",\n",
    "                     \"opravdu\",\n",
    "                     \"ohledne\",\n",
    "                     \"ohledně\",\n",
    "                     \"oop\",\n",
    "                     \"popřípadě\",\n",
    "                     \"popripade\",\n",
    "                     \"poradne\",\n",
    "                     \"prikaz\",\n",
    "                     \"příkaz\",\n",
    "                     \"presne\",\n",
    "                     \"přesně\",\n",
    "                     \"pro\",\n",
    "                     \"programovacího\",\n",
    "                     \"programovaciho\",\n",
    "                     \"programovací\",\n",
    "                     \"programovaci\",\n",
    "                     \"programování\",\n",
    "                     \"programovani\",\n",
    "                     \"programováni\",\n",
    "                     \"programovat\",\n",
    "                     \"programu\",\n",
    "                     \"programem\",\n",
    "                     \"poradne\",\n",
    "                     \"pořádně\",\n",
    "                     \"pujde\",\n",
    "                     \"půjde\",\n",
    "                     \"phyton\",\n",
    "                     \"phytonu\",\n",
    "                     \"python\",\n",
    "                     \"pythonu\",\n",
    "                     \"pythonem\",\n",
    "                     \"power\",\n",
    "                     \"powerbi\",\n",
    "                     \"pbi\",\n",
    "                     \"primárně\",\n",
    "                     \"primarne\",\n",
    "                     \"případně\",\n",
    "                     \"pripadne\",\n",
    "                     \"případné\",\n",
    "                     \"příkaz\",\n",
    "                     \"prikaz\",\n",
    "                     \"príkaz\",\n",
    "                     \"příkazu\",\n",
    "                     \"příkazů\",\n",
    "                     \"přikážu\",\n",
    "                     \"především\",\n",
    "                     \"predevsim\",\n",
    "                     \"co\",\n",
    "                     \"da\",\n",
    "                     \"ci\",\n",
    "                     \"či\",\n",
    "                     \"jejich\",\n",
    "                     \"jejích\",\n",
    "                     \"jsou\",\n",
    "                     \"ji\",\n",
    "                     \"jí\",\n",
    "                     \"jde\",\n",
    "                     \"kurzu\",\n",
    "                     \"kurzů\",\n",
    "                     \"ma\",\n",
    "                     \"má\",\n",
    "                     \"mam\",\n",
    "                     \"mám\",\n",
    "                     \"mohla\",\n",
    "                     \"ni\",\n",
    "                     \"ní\",\n",
    "                     \"podzimní\",\n",
    "                     \"podzimni\",\n",
    "                     \"právě\",\n",
    "                     \"prave\",\n",
    "                     \"práve\",\n",
    "                     \"pravě\",\n",
    "                     \"psát\",\n",
    "                     \"psat\",\n",
    "                     \"query\",\n",
    "                     \"kterých\",\n",
    "                     \"kterych\",\n",
    "                     \"která\",\n",
    "                     \"ktera\",\n",
    "                     \"ktere\",\n",
    "                     \"které\",\n",
    "                     \"který\",\n",
    "                     \"ktery\",\n",
    "                     \"kurz\",\n",
    "                     \"zdali\",\n",
    "                     \"na\",\n",
    "                     \"ráda\",\n",
    "                     \"rada\",\n",
    "                     \"ramci\",\n",
    "                     \"rámci\",\n",
    "                     \"semestrální\",\n",
    "                     \"semestralni\",\n",
    "                     \"slo\",\n",
    "                     \"šlo\",\n",
    "                     \"sebou\",\n",
    "                     \"své\",\n",
    "                     \"sve\",\n",
    "                     \"svou\",\n",
    "                     \"svoji\",\n",
    "                     \"svoje\",\n",
    "                     \"sql\",\n",
    "                     \"sql1\",\n",
    "                     \"sql2\",\n",
    "                     \"skutečně\",\n",
    "                     \"skutečné\",\n",
    "                     \"skutecne\",\n",
    "                     \"tabulkami\",\n",
    "                     \"tabulky\",\n",
    "                     \"také\",\n",
    "                     \"take\",\n",
    "                     \"této\",\n",
    "                     \"teto\",\n",
    "                     \"tim\",\n",
    "                     \"tím\",\n",
    "                     \"timto\",\n",
    "                     \"tímto\",\n",
    "                     \"tomuto\",\n",
    "                     \"tomto\",\n",
    "                     \"toho\",\n",
    "                     \"tohoto\",\n",
    "                     \"tato\",\n",
    "                     \"takže\",\n",
    "                     \"takze\",\n",
    "                     \"třeba\",\n",
    "                     \"treba\",\n",
    "                     \"trošku\",\n",
    "                     \"trosku\",\n",
    "                     \"testování\",\n",
    "                     \"testing\",\n",
    "                     \"úplně\",\n",
    "                     \"uplne\",\n",
    "                     \"určitě\",\n",
    "                     \"urcite\",\n",
    "                     \"udelat\",\n",
    "                     \"udělat\",\n",
    "                     \"úplně\",\n",
    "                     \"uplne\",\n",
    "                     \"uvest\",\n",
    "                     \"uvést\",\n",
    "                     \"vzorce\",\n",
    "                     \"všude\",\n",
    "                     \"vsude\",\n",
    "                     \"vás\",\n",
    "                     \"vas\",\n",
    "                     \"vba\",\n",
    "                     \"věci\",\n",
    "                     \"veci\",\n",
    "                     \"velmi\",\n",
    "                     \"vim\",\n",
    "                     \"vím\",\n",
    "                     \"vic\",\n",
    "                     \"víc\", \"více\", \"vice\", \"vizualizaci\", \"vizualizace\", \"vlastně\", \"vlastne\", \"vsechno\", \"všechno\", \"vůbec\", \"vubec\", \"výše\", \"vyse\", \"za\", \"zatim\", \"zatím\", \"zase\", \"zadne\", \"žádné\", \"zadna\", \"žádná\", \"zároveň\", \"zaroven\", \"znovu\"]\n",
    "\n",
    "# Initialize the TF-IDF Vectorizer with the custom stop words\n",
    "tfidf_vectorizer_czech = TfidfVectorizer(stop_words=custom_stop_words)\n",
    "\n",
    "# Fit and transform the 'expectation' column\n",
    "tfidf_matrix_czech = tfidf_vectorizer_czech.fit_transform(df_motiv_czech_filtered['expectation'])\n",
    "\n",
    "# Get the feature names (words) from the vectorizer\n",
    "feature_names_czech = tfidf_vectorizer_czech.get_feature_names_out()\n",
    "\n",
    "# Create a DataFrame to store TF-IDF values along with corresponding words\n",
    "df_tfidf_czech = pd.DataFrame(tfidf_matrix_czech.toarray(), columns=feature_names_czech)\n",
    "\n",
    "# Function to get the top N keywords based on TF-IDF values\n",
    "def get_top_n_keywords(row, top_n=3):\n",
    "    sorted_indices = row.argsort()[::-1][:top_n]  # Sort in descending order and get the top N indices\n",
    "    top_keywords = [feature_names_czech[i] for i in sorted_indices]\n",
    "    return ', '.join(top_keywords)\n",
    "\n",
    "# Apply the function to the TF-IDF DataFrame to get top 3 keywords for each sentence\n",
    "top_3_keywords_czech = df_tfidf_czech.apply(get_top_n_keywords, axis=1, top_n=3)\n",
    "\n",
    "# Apply the function to the TF-IDF DataFrame to get top 2 keywords for each sentence\n",
    "top_2_keywords_czech = df_tfidf_czech.apply(get_top_n_keywords, axis=1, top_n=2)\n",
    "\n",
    "# Extract the top keyword (highest TF-IDF value) for each sentence\n",
    "top_1_keyword_czech = df_tfidf_czech.idxmax(axis=1)\n",
    "\n",
    "# Map the extracted keywords to the original DataFrame\n",
    "df_motiv_czech_filtered['top_1_keyword'] = top_1_keyword_czech.values"
   ]
  },
  {
   "cell_type": "code",
   "execution_count": 46,
   "id": "37854f16-74f9-4065-ae76-4ef105d00681",
   "metadata": {
    "tags": []
   },
   "outputs": [],
   "source": [
    "# Remove diacritics\n",
    "df_motiv_czech_filtered['top_1_keyword_no_diacritics'] = df_motiv_czech_filtered['top_1_keyword'].apply(unidecode)"
   ]
  },
  {
   "cell_type": "code",
   "execution_count": 47,
   "id": "6fbf3250-86e6-4c77-b071-c8d904926f42",
   "metadata": {
    "tags": []
   },
   "outputs": [],
   "source": [
    "for_translation = df_motiv_czech_filtered.groupby(\"top_1_keyword_no_diacritics\").size().reset_index().sort_values(0, ascending=False)"
   ]
  },
  {
   "cell_type": "code",
   "execution_count": 48,
   "id": "4c67e412-8ff5-4ccf-bf98-ca56fe8957aa",
   "metadata": {
    "tags": []
   },
   "outputs": [],
   "source": [
    "for_translation.to_csv(\"for_translation_no_diacritics.csv\", index=False)"
   ]
  },
  {
   "cell_type": "code",
   "execution_count": 49,
   "id": "2ab6a7d5-2351-4ce9-acbc-4c99adc6f9db",
   "metadata": {
    "tags": []
   },
   "outputs": [],
   "source": [
    "relevant_participants_with_motivation = relevant_participants.merge(df_motiv_czech_filtered, on=\"participant_id\", how=\"left\")"
   ]
  },
  {
   "cell_type": "code",
   "execution_count": 50,
   "id": "2ddcaab5-540d-43db-aff1-7810a06f0d44",
   "metadata": {
    "tags": []
   },
   "outputs": [],
   "source": [
    "relevant_participants_with_motivation.to_csv(\"participants.csv\", index=False)"
   ]
  },
  {
   "cell_type": "code",
   "execution_count": 51,
   "id": "c74addd3-229a-48df-964a-26fcebd79360",
   "metadata": {
    "tags": []
   },
   "outputs": [],
   "source": [
    "# df_motiv_czech_filtered = df_motiv_czech_filtered[[\"course_id\", \"participant_id\", \"age_group\", \"motivation\", \"participant_state_english\", \"got_IT_job_after_digital_academy\", \"top_1_keyword\"]]"
   ]
  },
  {
   "cell_type": "code",
   "execution_count": 52,
   "id": "9161525e-293a-49be-90fc-8bd167735ca2",
   "metadata": {
    "tags": []
   },
   "outputs": [],
   "source": [
    "# for_translation = df_motiv_czech_filtered[[\"top_1_keyword\"]].drop_duplicates().reset_index()"
   ]
  },
  {
   "cell_type": "code",
   "execution_count": 53,
   "id": "e1d721d3-81eb-4d2b-8715-562c5d0473fb",
   "metadata": {
    "tags": []
   },
   "outputs": [],
   "source": [
    "# for_translation.to_csv(\"for_translation.csv\", index=False)\n",
    "# # Save DataFrame to a .txt file\n",
    "# for_translation.to_csv('words.txt', index=False, header=False, sep='\\t', encoding='utf-8')"
   ]
  },
  {
   "cell_type": "code",
   "execution_count": 54,
   "id": "cceeee92-beda-40c2-bb35-9650776bfb72",
   "metadata": {
    "tags": []
   },
   "outputs": [],
   "source": [
    "# czech_words_list = for_translation['top_1_keyword'].tolist()"
   ]
  },
  {
   "cell_type": "code",
   "execution_count": 55,
   "id": "90dfe113-83c3-4943-be3f-e6c1e50e85ca",
   "metadata": {
    "tags": []
   },
   "outputs": [],
   "source": [
    "# # Open a file in write mode ('w'). This will create a new file if it doesn't exist.\n",
    "# with open(\"for_trans_list.txt\", \"w\", encoding='utf-8') as f:\n",
    "#     for word in czech_words_list:\n",
    "#         f.write(f\"{word}\\n\")  # Writing each word followed by a newline"
   ]
  },
  {
   "cell_type": "code",
   "execution_count": 56,
   "id": "c13413ad-5e96-40ad-8032-3943b4aae726",
   "metadata": {
    "tags": []
   },
   "outputs": [],
   "source": [
    "# trans_1 = pd.read_csv('datasets/preklad/preklad_1_poe.txt', sep='-', header=None, names=['top_1_keyword', 'English'], on_bad_lines='skip')"
   ]
  },
  {
   "cell_type": "code",
   "execution_count": 57,
   "id": "0b8bb15c-dbbd-4b09-aa7b-a093fb867232",
   "metadata": {
    "tags": []
   },
   "outputs": [],
   "source": [
    "# trans_1['top_1_keyword'] = trans_1['top_1_keyword'].str.replace(' ', '')"
   ]
  },
  {
   "cell_type": "code",
   "execution_count": 58,
   "id": "caaaa0e6-3eea-497b-b8d6-8d7bc2d0860d",
   "metadata": {
    "tags": []
   },
   "outputs": [],
   "source": [
    "# preklad = pd.merge(for_translation, trans_1, on=\"top_1_keyword\", how=\"left\")"
   ]
  },
  {
   "cell_type": "markdown",
   "id": "7adabf3f-1c79-46cc-ae3a-c54a7fd8e751",
   "metadata": {},
   "source": [
    "### Apify"
   ]
  },
  {
   "cell_type": "code",
   "execution_count": 59,
   "id": "b77c762c-2239-4db4-bf44-a09b634e9e15",
   "metadata": {
    "tags": []
   },
   "outputs": [],
   "source": [
    "# Initialize an empty list to hold the individual DataFrames\n",
    "dfs = []\n",
    "\n",
    "# Specify the folder containing the CSV files\n",
    "folder_path = 'datasets/apify/apify_indeed-20231024T033726Z-001/apify_indeed/'\n",
    "\n",
    "# Loop through each file in the folder\n",
    "for filename in os.listdir(folder_path):\n",
    "    # Check if the file is a CSV file\n",
    "    if filename.endswith('.csv'):\n",
    "        # Construct the complete filepath\n",
    "        filepath = os.path.join(folder_path, filename)\n",
    "        \n",
    "        # Read the CSV file into a DataFrame\n",
    "        df = pd.read_csv(filepath)\n",
    "        \n",
    "        # Append the DataFrame to the list\n",
    "        dfs.append(df)\n",
    "\n",
    "# Concatenate all the individual DataFrames into one DataFrame\n",
    "final_df = pd.concat(dfs, ignore_index=True)"
   ]
  },
  {
   "cell_type": "code",
   "execution_count": 60,
   "id": "a45e5d2c-2c09-4900-a19b-78f82a9264d8",
   "metadata": {
    "tags": []
   },
   "outputs": [],
   "source": [
    "final_df_unique = final_df.drop_duplicates(subset=['id'], keep='last')"
   ]
  },
  {
   "cell_type": "code",
   "execution_count": 61,
   "id": "5cc32157-e10f-414f-9b50-67236cab3974",
   "metadata": {
    "tags": []
   },
   "outputs": [],
   "source": [
    "# VSECHNO LOWERCASE#\n",
    "data = final_df_unique.applymap(lambda s: s.lower() if type(s) == str else s)"
   ]
  },
  {
   "cell_type": "code",
   "execution_count": 62,
   "id": "f4744348-5c42-4622-83be-7de44ec963d2",
   "metadata": {
    "tags": []
   },
   "outputs": [],
   "source": [
    "# List of skills to look for\n",
    "skills_list = ['sql', 'spark', 'python', 'power bi', 'tableau', \"qlik\", \"looker\", \"excel\"]\n",
    "\n",
    "# Function to check if a skill is mentioned in the description\n",
    "def check_skills(description, skill):\n",
    "    return skill.lower() in description.lower()\n",
    "\n",
    "# Create new columns for each skill\n",
    "for skill in skills_list:\n",
    "    data[skill] = data['description'].apply(lambda x: check_skills(x, skill))\n"
   ]
  },
  {
   "cell_type": "code",
   "execution_count": 63,
   "id": "17e2117f-2f74-4663-a323-8f7defc7cbb9",
   "metadata": {
    "tags": []
   },
   "outputs": [
    {
     "name": "stderr",
     "output_type": "stream",
     "text": [
      "C:\\Users\\fukter\\AppData\\Local\\Temp\\ipykernel_6800\\1754805036.py:6: UserWarning: This pattern is interpreted as a regular expression, and has match groups. To actually get the groups, use str.extract.\n",
      "  data[\"common_sense\"] = data['description'].str.contains((r'selský rozum|common sense|(analytical(\\s+|\\w+){0,4}\\s+(skills|abilities))|logical thinking|logické myšlení|analytické myšlení|(analytical (mindset|thinking))'), regex=True, flags=re.IGNORECASE)\n"
     ]
    }
   ],
   "source": [
    "data[\"r\"] = data['description'].str.contains(\n",
    "    r'(?:\\sr,|\\sr-ko |\\srkem |\\sr-kem |\\br+\\s|\\(r\\b|\\br\\)|\\br\\/)', \n",
    "    regex=True, \n",
    "    flags=re.IGNORECASE\n",
    ")\n",
    "data[\"common_sense\"] = data['description'].str.contains((r'selský rozum|common sense|(analytical(\\s+|\\w+){0,4}\\s+(skills|abilities))|logical thinking|logické myšlení|analytické myšlení|(analytical (mindset|thinking))'), regex=True, flags=re.IGNORECASE)\n",
    "data[\"scala\"] = data['description'].str.contains(\n",
    "    r'\\bScala\\b', \n",
    "    regex=True, \n",
    "    flags=re.IGNORECASE\n",
    ")"
   ]
  },
  {
   "cell_type": "code",
   "execution_count": 64,
   "id": "ba4ccb4f-8961-4a46-8136-abb04942e891",
   "metadata": {
    "tags": []
   },
   "outputs": [],
   "source": [
    "# # skill detection\n",
    "# data[\"SQL\"]= data['description'].str.contains((r'sql+[^a-z]|sql+[^a-z]|SQLkem'), regex=True, flags=re.IGNORECASE)\n",
    "# data[\"Python\"]= data['description'].str.contains((r'Python'), regex=True, flags=re.IGNORECASE)\n",
    "# data[\"Julia\"]= data['description'].str.contains((r'Julia'), regex=True, flags=re.IGNORECASE)\n",
    "# data[\"Spark\"]= data['description'].str.contains((r' spark+[^a-z]|[^a-z]spark'), regex=True, flags=re.IGNORECASE)\n",
    "# data[\"Scala\"]= data['description'].str.contains((r'Scala+[^a-z]'), regex=True, flags=re.IGNORECASE)\n",
    "# data[\"Alteryx\"]= data['description'].str.contains((r'alteryx+[^a-z]'), regex=True, flags=re.IGNORECASE)\n",
    "# data[\"Tableau\"]= data['description'].str.contains((r'tableau+[^a-z]|tablo+[^a-z]'), regex=True, flags=re.IGNORECASE)\n",
    "# data[\"PowerBI\"]= data['description'].str.contains((r'Power BI+[^a-z]|PowerBI+[^a-z]'), regex=True, flags=re.IGNORECASE)\n",
    "# data[\"Qlik\"]= data['description'].str.contains((r'Qlik+[^a-z]|Qlik+[^a-z]'), regex=True, flags=re.IGNORECASE)\n",
    "# data[\"R\"]= data['description'].str.contains((r'R-ko | Rkem | R-kem |\\br+\\s|\\(r\\b|\\br\\)|\\br\\/'), regex=True, flags=re.IGNORECASE)\n",
    "# data[\"Oracle\"]= data['description'].str.contains((r'oracle+[^a-z]'), regex=True, flags=re.IGNORECASE)\n",
    "# data[\"Snowflake\"]= data['description'].str.contains((r'Snowflake+[^a-z]'), regex=True, flags=re.IGNORECASE)\n",
    "# data[\"MySQL\"]= data['description'].str.contains((r' MySQL+[^a-z]|My SQL+[^a-z]|mssql|ms-sql'), regex=True, flags=re.IGNORECASE)\n",
    "# data[\"Postgres\"]= data['description'].str.contains((r'postgre+[^a-z]|postgres+[^a-z]|postgresql+[^a-z]|possgrest'), regex=True, flags=re.IGNORECASE)\n",
    "# data[\"Excel\"]= data['description'].str.contains((r'excel+[^a-z]|excelov[ý,ým]|xls'), regex=True, flags=re.IGNORECASE) # excellence to nebere uz tak jak to je, bere to i Excel, Excel; atd\n",
    "# data[\"UML\"]= data['description'].str.contains((r'UML+[^a-z]'), regex=True, flags=re.IGNORECASE)\n",
    "# data[\"Enterprise Architect\"]= data['description'].str.contains((r'\\benterprise architect\\b'), regex=True, flags=re.IGNORECASE)\n",
    "# data[\"Cognos\"]= data['description'].str.contains((r'cognos+[^a-z]'), regex=True, flags=re.IGNORECASE)\n",
    "# data[\"GIT\"]= data['description'].str.contains((r'\\bGIT\\b|\\bgitlab\\b|\\bgithub\\b'), regex=True, flags=re.IGNORECASE)\n",
    "# data[\"AWS\"]= data['description'].str.contains((r'\\bAWS\\b|\\bAmazon Web Services\\b|\\bAmazon Web\\b'), regex=True, flags=re.IGNORECASE)\n",
    "# data[\"Azure\"]= data['description'].str.contains((r'azure'), regex=True, flags=re.IGNORECASE)\n",
    "# data[\"CommonSense\"] = data['description'].str.contains((r'selský rozum|common sense|(analytical(\\s+|\\w+){0,4}\\s+(skills|abilities))|logical thinking|logické myšlení|analytické myšlení|(analytical (mindset|thinking))'), regex=True, flags=re.IGNORECASE)\n",
    "# data[\"DataAnalysis\"] = data['description'].str.contains((r'analýza dat|datová analýza|(analyzovat(\\s|\\w+){0,2}\\s+data)|(analyzováním(\\s+|\\w+){0,2}\\s+dat)|data analysis|datových analytiků|datové analýzy|datová analytika|analytika dat|datovou analytiku|datové analytiky|data analyst'), regex=True, flags=re.IGNORECASE)"
   ]
  },
  {
   "cell_type": "code",
   "execution_count": 65,
   "id": "c74a4dba-6891-4cd4-96d9-3cfbbd4db019",
   "metadata": {
    "tags": []
   },
   "outputs": [],
   "source": [
    "# Define a function for custom job categorization based on the conditions provided\n",
    "def custom_job_categorization(job_name_lower):\n",
    "    \n",
    "    if ((\"it\" in job_name_lower and \"spec\" in job_name_lower) or\n",
    "          \"it analy\" in job_name_lower or\n",
    "          (\"it\" in job_name_lower and \"support\" in job_name_lower) or\n",
    "          (\"it\" in job_name_lower and \"admin\" in job_name_lower) or\n",
    "          (\"it\" in job_name_lower and \"správc\" in job_name_lower) or\n",
    "          (\"it\" in job_name_lower and \"techni\" in job_name_lower) or\n",
    "          \"devops\" in job_name_lower or\n",
    "          (\"it\" in job_name_lower and \"syst\" in job_name_lower) or\n",
    "          \"it \" in job_name_lower):\n",
    "        return \"Not Relevant Positions\"\n",
    "    \n",
    "    elif (\"anal\" in job_name_lower or\n",
    "      \"data \" in job_name_lower or\n",
    "      \"datový \" in job_name_lower or\n",
    "      \"datová \" in job_name_lower or\n",
    "      ((\"bi\" in job_name_lower or \"dat\" in job_name_lower or \"dát\" in job_name_lower) and\n",
    "       (\"power\" in job_name_lower or\n",
    "        \"onsult\" in job_name_lower or\n",
    "        \"anal\" in job_name_lower or\n",
    "        \"onzult\" in job_name_lower or\n",
    "        \"develop\" in job_name_lower or\n",
    "        \"data\" in job_name_lower or\n",
    "        \"exp\" in job_name_lower or\n",
    "        \"design\" in job_name_lower or\n",
    "        \"program\" in job_name_lower or\n",
    "        \"manag\" in job_name_lower or\n",
    "        \"admin\" in job_name_lower or\n",
    "        \"archit\" in job_name_lower or\n",
    "        \"engineer\" in job_name_lower or\n",
    "        \"inž\" in job_name_lower or\n",
    "        \"mod\" in job_name_lower or\n",
    "        \"special\" in job_name_lower or\n",
    "        \"lead\" in job_name_lower or\n",
    "        \"etl\" in job_name_lower))):\n",
    "        return \"Data Analytics / Business Intelligence / Reporting\"\n",
    "\n",
    "    elif ((\"business\" in job_name_lower and (\"anal\" in job_name_lower or \"intell\" in job_name_lower)) or\n",
    "      \"reporting\" in job_name_lower or\n",
    "      \"sql\" in job_name_lower or\n",
    "      \"qlik\" in job_name_lower or\n",
    "      \"big data\" in job_name_lower):\n",
    "        return \"Data Analytics / Business Intelligence / Reporting\"\n",
    "        \n",
    "    elif \"test\" in job_name_lower or \"quality\" in job_name_lower or \"qa\" in job_name_lower:\n",
    "        return \"Testing\"\n",
    "    \n",
    "    elif ((\"javascript\" in job_name_lower) or\n",
    "          (\"php\" in job_name_lower) or\n",
    "          (\"front\" in job_name_lower and \"end\" in job_name_lower) or\n",
    "          (\".js\" in job_name_lower) or\n",
    "          (\"wordpress\" in job_name_lower) or\n",
    "          (\"angular\" in job_name_lower) or\n",
    "          (\"react\" in job_name_lower) or\n",
    "          (\"web\" in job_name_lower and (\"develop\" in job_name_lower or \"program\" in job_name_lower or \"master\" in job_name_lower or \"vývoj\" in job_name_lower or \"kod\" in job_name_lower))):\n",
    "        return \"Web & Frontend Development\"\n",
    "    \n",
    "    elif ((\"machine\" in job_name_lower and \"learning\" in job_name_lower)  or\n",
    "          (\"datov\" in job_name_lower and \"věd\" in job_name_lower)  or\n",
    "          \"ai/ml\" in job_name_lower or\n",
    "          \"ai \" in job_name_lower or\n",
    "          \"data science\" in job_name_lower or\n",
    "          \"artificial\" in job_name_lower or\n",
    "          (\"stroj\" in job_name_lower and \"učen\" in job_name_lower)):\n",
    "        return \"Data Science / Machine Learning / Artificial Intelligence\"\n",
    "    \n",
    "    elif (\"recruit\" in job_name_lower or\n",
    "      (\"back\" in job_name_lower and \"office\" in job_name_lower) or\n",
    "      \"konstrukt\" in job_name_lower or\n",
    "      \"r&d\" in job_name_lower or\n",
    "      \"compliance\" in job_name_lower):\n",
    "        return \"Not Relevant Positions\"\n",
    "    \n",
    "    elif \"security\" in job_name_lower or \"kyber\" in job_name_lower or \"cyber\" in job_name_lower or \"bezpeč\" in job_name_lower or \"data privacy\" in job_name_lower or \"data protection\" in job_name_lower:\n",
    "        return \"Cybersecurity\"\n",
    "    \n",
    "    elif \"android\" in job_name_lower or \"ios\" in job_name_lower:\n",
    "        return \"Not Relevant Positions\"\n",
    "    \n",
    "    elif \"salesforce\" in job_name_lower:\n",
    "        return \"Marketing Technology\"\n",
    "    \n",
    "    elif \"sap\" in job_name_lower:\n",
    "        return \"Not Relevant Positions\"\n",
    "    \n",
    "    elif \"proje\" in job_name_lower or \"produ\" in job_name_lower:\n",
    "        return \"Not Relevant Positions\"\n",
    "    \n",
    "    elif \"scrum\" in job_name_lower:\n",
    "        return \"Not Relevant Positions\"\n",
    "    \n",
    "    elif \"dwh\" in job_name_lower or \"datab\" in job_name_lower or \"db \" in job_name_lower:\n",
    "        return \"Data Analytics / Business Intelligence / Reporting\"\n",
    "    \n",
    "    elif (\"graph\" in job_name_lower or\n",
    "          \"graf\" in job_name_lower or\n",
    "          \" ux\" in job_name_lower or\n",
    "          \"ux \" in job_name_lower or\n",
    "          \"design\" in job_name_lower or\n",
    "          \" ui\" in job_name_lower or\n",
    "          \"ui \" in job_name_lower or\n",
    "          \"user experience\" in job_name_lower):\n",
    "        return \"UX / UI / Graphic Design\"\n",
    "    \n",
    "    elif (\"full\" in job_name_lower and \"stack\" in job_name_lower) or \"fullstack\" in job_name_lower:\n",
    "        return \"Backend Development\"\n",
    "    \n",
    "    elif (\"c#\" in job_name_lower or\n",
    "      \".net\" in job_name_lower or\n",
    "      \"java\" in job_name_lower or\n",
    "      \"javist\" in job_name_lower or\n",
    "      \"javě\" in job_name_lower or\n",
    "      \"python\" in job_name_lower or\n",
    "      \"c++\" in job_name_lower or\n",
    "      (\"back\" in job_name_lower and \"end\" in job_name_lower) or\n",
    "      \"software\" in job_name_lower):\n",
    "        return \"Backend Development\"\n",
    "    \n",
    "    elif \"marke\" in job_name_lower or \"social\" in job_name_lower or \"ppc\" in job_name_lower or \"seo\" in job_name_lower or \"rtb\" in job_name_lower:\n",
    "        return \"Marketing Technology\"\n",
    "    \n",
    "    else:\n",
    "        return \"Not Relevant Positions\""
   ]
  },
  {
   "cell_type": "code",
   "execution_count": 66,
   "id": "191c087f-1d02-407e-987a-758b19f8e329",
   "metadata": {
    "tags": []
   },
   "outputs": [],
   "source": [
    "data[\"position_category\"] = data[\"positionName\"].apply(custom_job_categorization)"
   ]
  },
  {
   "cell_type": "code",
   "execution_count": 67,
   "id": "88ccf920-dad3-43de-ac39-40b483ea8f48",
   "metadata": {
    "tags": []
   },
   "outputs": [],
   "source": [
    "data = data[data[\"position_category\"]==\"Data Analytics / Business Intelligence / Reporting\"]"
   ]
  },
  {
   "cell_type": "code",
   "execution_count": 68,
   "id": "54610ded-8923-4149-9f77-a6fc5379c4b8",
   "metadata": {
    "tags": []
   },
   "outputs": [],
   "source": [
    "# data[[\"positionName\", \"position_category\"]].drop_duplicates().to_csv(\"job_names.csv\")"
   ]
  },
  {
   "cell_type": "code",
   "execution_count": 69,
   "id": "e16cb717-d970-415f-9ef9-0a09419a61d4",
   "metadata": {
    "tags": []
   },
   "outputs": [],
   "source": [
    "data = data[[\"id\", \"description\", \"sql\", \"spark\", \"python\", \"power bi\", \"tableau\", \"scala\", \"qlik\", \"looker\", \"excel\", \"r\", \"common_sense\"]]"
   ]
  },
  {
   "cell_type": "code",
   "execution_count": 70,
   "id": "2b3cda9e-f493-4ee2-81ea-1ba596fb287d",
   "metadata": {
    "tags": []
   },
   "outputs": [
    {
     "data": {
      "text/plain": [
       "519"
      ]
     },
     "execution_count": 70,
     "metadata": {},
     "output_type": "execute_result"
    }
   ],
   "source": [
    "len(data)"
   ]
  },
  {
   "cell_type": "code",
   "execution_count": 71,
   "id": "7a28de66-fc72-4336-81de-793d770a0ed9",
   "metadata": {
    "tags": []
   },
   "outputs": [],
   "source": [
    "# Columns you want to consider for counting True values\n",
    "cols_to_count = [\"sql\", \"spark\", \"python\", \"power bi\", \"tableau\", \"scala\", \"qlik\", \"looker\", \"excel\", \"r\", \"common_sense\"]\n",
    "\n",
    "# Count the number of True values per row in the selected columns only\n",
    "data['True_count'] = data[cols_to_count].sum(axis=1)"
   ]
  },
  {
   "cell_type": "code",
   "execution_count": 72,
   "id": "9b3466f9-9983-4ab7-b4a7-88d2bb6bc102",
   "metadata": {
    "tags": []
   },
   "outputs": [
    {
     "data": {
      "text/html": [
       "<div>\n",
       "<style scoped>\n",
       "    .dataframe tbody tr th:only-of-type {\n",
       "        vertical-align: middle;\n",
       "    }\n",
       "\n",
       "    .dataframe tbody tr th {\n",
       "        vertical-align: top;\n",
       "    }\n",
       "\n",
       "    .dataframe thead th {\n",
       "        text-align: right;\n",
       "    }\n",
       "</style>\n",
       "<table border=\"1\" class=\"dataframe\">\n",
       "  <thead>\n",
       "    <tr style=\"text-align: right;\">\n",
       "      <th></th>\n",
       "      <th>id</th>\n",
       "      <th>description</th>\n",
       "      <th>sql</th>\n",
       "      <th>spark</th>\n",
       "      <th>python</th>\n",
       "      <th>power bi</th>\n",
       "      <th>tableau</th>\n",
       "      <th>scala</th>\n",
       "      <th>qlik</th>\n",
       "      <th>looker</th>\n",
       "      <th>excel</th>\n",
       "      <th>r</th>\n",
       "      <th>common_sense</th>\n",
       "      <th>True_count</th>\n",
       "    </tr>\n",
       "  </thead>\n",
       "  <tbody>\n",
       "    <tr>\n",
       "      <th>647</th>\n",
       "      <td>0fc34e9a7cbb6294</td>\n",
       "      <td>pro oddělení business development hledáme nadš...</td>\n",
       "      <td>False</td>\n",
       "      <td>False</td>\n",
       "      <td>False</td>\n",
       "      <td>False</td>\n",
       "      <td>False</td>\n",
       "      <td>False</td>\n",
       "      <td>False</td>\n",
       "      <td>False</td>\n",
       "      <td>True</td>\n",
       "      <td>False</td>\n",
       "      <td>False</td>\n",
       "      <td>1</td>\n",
       "    </tr>\n",
       "    <tr>\n",
       "      <th>882</th>\n",
       "      <td>38150ddcde93376b</td>\n",
       "      <td>jsme česká společnost, zabývající se zejména v...</td>\n",
       "      <td>True</td>\n",
       "      <td>False</td>\n",
       "      <td>False</td>\n",
       "      <td>True</td>\n",
       "      <td>False</td>\n",
       "      <td>False</td>\n",
       "      <td>False</td>\n",
       "      <td>False</td>\n",
       "      <td>False</td>\n",
       "      <td>False</td>\n",
       "      <td>True</td>\n",
       "      <td>3</td>\n",
       "    </tr>\n",
       "    <tr>\n",
       "      <th>903</th>\n",
       "      <td>fd0ded863ed353f0</td>\n",
       "      <td>ahoj, tady michal z týmu zoner photo studia. t...</td>\n",
       "      <td>False</td>\n",
       "      <td>False</td>\n",
       "      <td>False</td>\n",
       "      <td>False</td>\n",
       "      <td>False</td>\n",
       "      <td>False</td>\n",
       "      <td>False</td>\n",
       "      <td>False</td>\n",
       "      <td>False</td>\n",
       "      <td>False</td>\n",
       "      <td>False</td>\n",
       "      <td>0</td>\n",
       "    </tr>\n",
       "  </tbody>\n",
       "</table>\n",
       "</div>"
      ],
      "text/plain": [
       "                   id                                        description  \\\n",
       "647  0fc34e9a7cbb6294  pro oddělení business development hledáme nadš...   \n",
       "882  38150ddcde93376b  jsme česká společnost, zabývající se zejména v...   \n",
       "903  fd0ded863ed353f0  ahoj, tady michal z týmu zoner photo studia. t...   \n",
       "\n",
       "       sql  spark  python  power bi  tableau  scala   qlik  looker  excel  \\\n",
       "647  False  False   False     False    False  False  False   False   True   \n",
       "882   True  False   False      True    False  False  False   False  False   \n",
       "903  False  False   False     False    False  False  False   False  False   \n",
       "\n",
       "         r  common_sense  True_count  \n",
       "647  False         False           1  \n",
       "882  False          True           3  \n",
       "903  False         False           0  "
      ]
     },
     "execution_count": 72,
     "metadata": {},
     "output_type": "execute_result"
    }
   ],
   "source": [
    "data.head(3)"
   ]
  },
  {
   "cell_type": "code",
   "execution_count": 73,
   "id": "216dea23-ca40-4218-bfce-7f03b1ee8a15",
   "metadata": {
    "tags": []
   },
   "outputs": [],
   "source": [
    "data = data[data[\"True_count\"]>0]"
   ]
  },
  {
   "cell_type": "code",
   "execution_count": 74,
   "id": "c8048318-b20a-49a7-9886-e63b318773e5",
   "metadata": {
    "tags": []
   },
   "outputs": [],
   "source": [
    "data = data[[\"id\", \"sql\", \"spark\", \"python\", \"power bi\", \"tableau\", \"scala\", \"qlik\", \"looker\", \"excel\", \"r\", \"common_sense\"]]"
   ]
  },
  {
   "cell_type": "code",
   "execution_count": 75,
   "id": "2b5c0f1f-07b5-496e-89aa-fe00dce6cc8c",
   "metadata": {
    "tags": []
   },
   "outputs": [
    {
     "data": {
      "text/plain": [
       "447"
      ]
     },
     "execution_count": 75,
     "metadata": {},
     "output_type": "execute_result"
    }
   ],
   "source": [
    "len(data)"
   ]
  },
  {
   "cell_type": "code",
   "execution_count": 76,
   "id": "d8edb862-88e9-44aa-be6d-99dae6274a7c",
   "metadata": {
    "tags": []
   },
   "outputs": [],
   "source": [
    "# # Calculate the total number of rows in the DataFrame\n",
    "# total_rows = len(data)\n",
    "# # Add a new column to show the share of rows where each skill is True\n",
    "# skill_counts_df['Share'] = skill_counts_df['Count'] / total_rows * 100\n",
    "# # Count the number of True values for each skill (ignoring the 'id' column)\n",
    "# skill_counts = data.drop(columns='id').sum()\n",
    "# # Convert the Series to a DataFrame\n",
    "# skill_counts_df = skill_counts.reset_index()\n",
    "# skill_counts_df.columns = ['Skill', 'Count']"
   ]
  },
  {
   "cell_type": "code",
   "execution_count": 77,
   "id": "4b8fb287-f520-4a31-9855-ba2dedabf3a4",
   "metadata": {
    "tags": []
   },
   "outputs": [],
   "source": [
    "data.to_csv(\"analytics_skills_job_ads.csv\", index=False)"
   ]
  },
  {
   "cell_type": "code",
   "execution_count": null,
   "id": "cd94aaed-cccb-4880-bb9e-13a3fcd15424",
   "metadata": {},
   "outputs": [],
   "source": []
  }
 ],
 "metadata": {
  "kernelspec": {
   "display_name": "Python 3 (ipykernel)",
   "language": "python",
   "name": "python3"
  },
  "language_info": {
   "codemirror_mode": {
    "name": "ipython",
    "version": 3
   },
   "file_extension": ".py",
   "mimetype": "text/x-python",
   "name": "python",
   "nbconvert_exporter": "python",
   "pygments_lexer": "ipython3",
   "version": "3.11.3"
  }
 },
 "nbformat": 4,
 "nbformat_minor": 5
}
